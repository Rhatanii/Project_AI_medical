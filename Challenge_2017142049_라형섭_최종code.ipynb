{
  "nbformat": 4,
  "nbformat_minor": 0,
  "metadata": {
    "colab": {
      "name": "Challenge_2017142049_라형섭_최종code.ipynb",
      "provenance": [],
      "collapsed_sections": [],
      "machine_shape": "hm",
      "include_colab_link": true
    },
    "kernelspec": {
      "name": "python3",
      "display_name": "Python 3"
    },
    "language_info": {
      "name": "python"
    },
    "accelerator": "GPU"
  },
  "cells": [
    {
      "cell_type": "markdown",
      "metadata": {
        "id": "view-in-github",
        "colab_type": "text"
      },
      "source": [
        "<a href=\"https://colab.research.google.com/github/Rhatanii/Project_AI_medical/blob/main/Challenge_2017142049_%EB%9D%BC%ED%98%95%EC%84%AD_%EC%B5%9C%EC%A2%85code.ipynb\" target=\"_parent\"><img src=\"https://colab.research.google.com/assets/colab-badge.svg\" alt=\"Open In Colab\"/></a>"
      ]
    },
    {
      "cell_type": "markdown",
      "metadata": {
        "id": "RkYYf99l2KMF"
      },
      "source": [
        "\n",
        "# 1. DICOM 데이터 파일 불러오기"
      ]
    },
    {
      "cell_type": "code",
      "metadata": {
        "id": "GCzicz650etj",
        "colab": {
          "base_uri": "https://localhost:8080/"
        },
        "outputId": "e400e49c-795a-4277-a012-7a4b2afa2f70"
      },
      "source": [
        "# Google Drive 마운트\n",
        "from google.colab import drive\n",
        "drive.mount('/content/drive')"
      ],
      "execution_count": null,
      "outputs": [
        {
          "output_type": "stream",
          "name": "stdout",
          "text": [
            "Mounted at /content/drive\n"
          ]
        }
      ]
    },
    {
      "cell_type": "code",
      "metadata": {
        "colab": {
          "base_uri": "https://localhost:8080/"
        },
        "id": "lW6exkymHJTV",
        "outputId": "8f0e7dbe-b898-4a92-ca36-026ff097b3a9"
      },
      "source": [
        "#pydicom 모듈 설치\n",
        "!pip install pydicom\n",
        "#mat파일을 위한 scipy\n",
        "!pip install scipy\n",
        "#Albumentation, 다양한 data augmentation을 위해\n",
        "!pip install albumentations==0.4.6\n",
        "#!pip install tqdm"
      ],
      "execution_count": null,
      "outputs": [
        {
          "output_type": "stream",
          "name": "stdout",
          "text": [
            "Collecting pydicom\n",
            "  Downloading pydicom-2.2.2-py3-none-any.whl (2.0 MB)\n",
            "\u001b[K     |████████████████████████████████| 2.0 MB 4.2 MB/s \n",
            "\u001b[?25hInstalling collected packages: pydicom\n",
            "Successfully installed pydicom-2.2.2\n",
            "Requirement already satisfied: scipy in /usr/local/lib/python3.7/dist-packages (1.4.1)\n",
            "Requirement already satisfied: numpy>=1.13.3 in /usr/local/lib/python3.7/dist-packages (from scipy) (1.19.5)\n",
            "Collecting albumentations==0.4.6\n",
            "  Downloading albumentations-0.4.6.tar.gz (117 kB)\n",
            "\u001b[K     |████████████████████████████████| 117 kB 4.2 MB/s \n",
            "\u001b[?25hRequirement already satisfied: numpy>=1.11.1 in /usr/local/lib/python3.7/dist-packages (from albumentations==0.4.6) (1.19.5)\n",
            "Requirement already satisfied: scipy in /usr/local/lib/python3.7/dist-packages (from albumentations==0.4.6) (1.4.1)\n",
            "Collecting imgaug>=0.4.0\n",
            "  Downloading imgaug-0.4.0-py2.py3-none-any.whl (948 kB)\n",
            "\u001b[K     |████████████████████████████████| 948 kB 17.4 MB/s \n",
            "\u001b[?25hRequirement already satisfied: PyYAML in /usr/local/lib/python3.7/dist-packages (from albumentations==0.4.6) (3.13)\n",
            "Requirement already satisfied: opencv-python>=4.1.1 in /usr/local/lib/python3.7/dist-packages (from albumentations==0.4.6) (4.1.2.30)\n",
            "Requirement already satisfied: imageio in /usr/local/lib/python3.7/dist-packages (from imgaug>=0.4.0->albumentations==0.4.6) (2.4.1)\n",
            "Requirement already satisfied: six in /usr/local/lib/python3.7/dist-packages (from imgaug>=0.4.0->albumentations==0.4.6) (1.15.0)\n",
            "Requirement already satisfied: Shapely in /usr/local/lib/python3.7/dist-packages (from imgaug>=0.4.0->albumentations==0.4.6) (1.8.0)\n",
            "Requirement already satisfied: scikit-image>=0.14.2 in /usr/local/lib/python3.7/dist-packages (from imgaug>=0.4.0->albumentations==0.4.6) (0.18.3)\n",
            "Requirement already satisfied: Pillow in /usr/local/lib/python3.7/dist-packages (from imgaug>=0.4.0->albumentations==0.4.6) (7.1.2)\n",
            "Requirement already satisfied: matplotlib in /usr/local/lib/python3.7/dist-packages (from imgaug>=0.4.0->albumentations==0.4.6) (3.2.2)\n",
            "Requirement already satisfied: tifffile>=2019.7.26 in /usr/local/lib/python3.7/dist-packages (from scikit-image>=0.14.2->imgaug>=0.4.0->albumentations==0.4.6) (2021.11.2)\n",
            "Requirement already satisfied: PyWavelets>=1.1.1 in /usr/local/lib/python3.7/dist-packages (from scikit-image>=0.14.2->imgaug>=0.4.0->albumentations==0.4.6) (1.2.0)\n",
            "Requirement already satisfied: networkx>=2.0 in /usr/local/lib/python3.7/dist-packages (from scikit-image>=0.14.2->imgaug>=0.4.0->albumentations==0.4.6) (2.6.3)\n",
            "Requirement already satisfied: cycler>=0.10 in /usr/local/lib/python3.7/dist-packages (from matplotlib->imgaug>=0.4.0->albumentations==0.4.6) (0.11.0)\n",
            "Requirement already satisfied: kiwisolver>=1.0.1 in /usr/local/lib/python3.7/dist-packages (from matplotlib->imgaug>=0.4.0->albumentations==0.4.6) (1.3.2)\n",
            "Requirement already satisfied: pyparsing!=2.0.4,!=2.1.2,!=2.1.6,>=2.0.1 in /usr/local/lib/python3.7/dist-packages (from matplotlib->imgaug>=0.4.0->albumentations==0.4.6) (3.0.6)\n",
            "Requirement already satisfied: python-dateutil>=2.1 in /usr/local/lib/python3.7/dist-packages (from matplotlib->imgaug>=0.4.0->albumentations==0.4.6) (2.8.2)\n",
            "Building wheels for collected packages: albumentations\n",
            "  Building wheel for albumentations (setup.py) ... \u001b[?25l\u001b[?25hdone\n",
            "  Created wheel for albumentations: filename=albumentations-0.4.6-py3-none-any.whl size=65172 sha256=a568d8ef16c67dffc28be135ff94cfec5261d36386cf50270c5bed67ea007cda\n",
            "  Stored in directory: /root/.cache/pip/wheels/cf/34/0f/cb2a5f93561a181a4bcc84847ad6aaceea8b5a3127469616cc\n",
            "Successfully built albumentations\n",
            "Installing collected packages: imgaug, albumentations\n",
            "  Attempting uninstall: imgaug\n",
            "    Found existing installation: imgaug 0.2.9\n",
            "    Uninstalling imgaug-0.2.9:\n",
            "      Successfully uninstalled imgaug-0.2.9\n",
            "  Attempting uninstall: albumentations\n",
            "    Found existing installation: albumentations 0.1.12\n",
            "    Uninstalling albumentations-0.1.12:\n",
            "      Successfully uninstalled albumentations-0.1.12\n",
            "Successfully installed albumentations-0.4.6 imgaug-0.4.0\n"
          ]
        }
      ]
    },
    {
      "cell_type": "code",
      "metadata": {
        "colab": {
          "base_uri": "https://localhost:8080/"
        },
        "id": "cq9hcYE0xW91",
        "outputId": "6511848c-7e64-4d38-a754-a018c5ca1752"
      },
      "source": [
        "#dicom 파일 전처리에 필요\n",
        "!pip install pylibjpeg \n",
        "!pip install python-gdcm\n",
        "!pip install pillow"
      ],
      "execution_count": null,
      "outputs": [
        {
          "output_type": "stream",
          "name": "stdout",
          "text": [
            "Collecting pylibjpeg\n",
            "  Downloading pylibjpeg-1.3.0-py3-none-any.whl (28 kB)\n",
            "Collecting pylibjpeg-rle\n",
            "  Downloading pylibjpeg_rle-1.1.0-cp37-cp37m-manylinux2010_x86_64.whl (884 kB)\n",
            "\u001b[K     |████████████████████████████████| 884 kB 5.5 MB/s \n",
            "\u001b[?25hCollecting pylibjpeg-openjpeg\n",
            "  Downloading pylibjpeg_openjpeg-1.1.1-cp37-cp37m-manylinux2010_x86_64.whl (3.6 MB)\n",
            "\u001b[K     |████████████████████████████████| 3.6 MB 62.9 MB/s \n",
            "\u001b[?25hRequirement already satisfied: numpy in /usr/local/lib/python3.7/dist-packages (from pylibjpeg) (1.19.5)\n",
            "Installing collected packages: pylibjpeg-rle, pylibjpeg-openjpeg, pylibjpeg\n",
            "Successfully installed pylibjpeg-1.3.0 pylibjpeg-openjpeg-1.1.1 pylibjpeg-rle-1.1.0\n",
            "Collecting python-gdcm\n",
            "  Downloading python_gdcm-3.0.10-cp37-cp37m-manylinux_2_17_x86_64.manylinux2014_x86_64.whl (9.4 MB)\n",
            "\u001b[K     |████████████████████████████████| 9.4 MB 4.1 MB/s \n",
            "\u001b[?25hInstalling collected packages: python-gdcm\n",
            "Successfully installed python-gdcm-3.0.10\n",
            "Requirement already satisfied: pillow in /usr/local/lib/python3.7/dist-packages (7.1.2)\n"
          ]
        }
      ]
    },
    {
      "cell_type": "code",
      "source": [
        "# os.listdir 숫자 기준 정렬을 위해\n",
        "!pip install natsort"
      ],
      "metadata": {
        "colab": {
          "base_uri": "https://localhost:8080/"
        },
        "id": "DQJCHaB0-IFh",
        "outputId": "dab9de43-cf4f-4d93-fa5d-c4c8c0993f23"
      },
      "execution_count": null,
      "outputs": [
        {
          "output_type": "stream",
          "name": "stdout",
          "text": [
            "Requirement already satisfied: natsort in /usr/local/lib/python3.7/dist-packages (5.5.0)\n"
          ]
        }
      ]
    },
    {
      "cell_type": "code",
      "metadata": {
        "id": "bXJbWizCsRc3"
      },
      "source": [
        "import os\n",
        "import glob\n",
        "import numpy as np\n",
        "\n",
        "import torch, torchvision\n",
        "import torch.nn as nn\n",
        "import torch.nn.functional as F\n",
        "import torch.optim as optim\n",
        "\n",
        "import albumentations as A\n",
        "from albumentations.pytorch import transforms\n",
        "from albumentations.pytorch import ToTensorV2\n",
        "\n",
        "from torch._C import dtype\n",
        "from torch.utils.data import DataLoader"
      ],
      "execution_count": null,
      "outputs": []
    },
    {
      "cell_type": "markdown",
      "source": [
        "- dicom data 출력 확인 + mat파일 출력 확인\n",
        "- 처음 시행에서는 numpy 불러오는 것 관련해서 error 발생\n",
        "- 아래 pip unistall numpy 코드 실행 후, restart runtime \n",
        "- 위 import 코드 부터 재 실행하면 된다."
      ],
      "metadata": {
        "id": "DzrzDnwbUBDl"
      }
    },
    {
      "cell_type": "markdown",
      "source": [
        "dicom 파일과 label 이미지 출력해볼 수 있다."
      ],
      "metadata": {
        "id": "-CjORwo7E8e4"
      }
    },
    {
      "cell_type": "code",
      "metadata": {
        "colab": {
          "base_uri": "https://localhost:8080/",
          "height": 404
        },
        "id": "gUX7JIFWb1JD",
        "outputId": "8b7b2841-94ac-475a-d5bb-65b624a4c449"
      },
      "source": [
        "import pydicom as dicom\n",
        "from matplotlib import pyplot as plt\n",
        "import pylibjpeg\n",
        "import gdcm\n",
        "from scipy import io\n",
        "\n",
        "input_path = '/content/drive/MyDrive/challenge_data_dicom/train/img/'\n",
        "dicom_path = input_path + '021.dcm'\n",
        "ds = dicom.read_file(dicom_path)\n",
        "\n",
        "\n",
        "#dicom 파일 기본 특성 확인\n",
        "pixel_array = ds.pixel_array\n",
        "pixel_array1 = ds.pixel_array #전처리 진행 안하는 pixel_array\n",
        "\n",
        "Rescale_slope = ds.RescaleSlope\n",
        "Rescale_intercept = ds.RescaleIntercept\n",
        "Window_center = ds.WindowCenter\n",
        "Window_width = ds.WindowWidth\n",
        "Photometric_interpretation = ds.PhotometricInterpretation\n",
        "Bitstored = ds.BitsStored\n",
        "max = pixel_array.max()\n",
        "min = pixel_array.min()\n",
        "lwin = Window_center - Window_width/2\n",
        "lwin = lwin/(2**Bitstored)\n",
        "rwin = Window_center + Window_width/2\n",
        "rwin = rwin/(2**Bitstored)\n",
        "\n",
        "#Bitstored 이용하여 normalize dicom image전처리\n",
        "pixel_array = pixel_array.astype(np.float32)\n",
        "pixel_array=pixel_array/(2**Bitstored)\n",
        "\n",
        "#Window로 전처리\n",
        "pixel_array[np.where(pixel_array<lwin)] = lwin\n",
        "pixel_array[np.where(pixel_array>rwin)] = rwin\n",
        "pixel_array = pixel_array - lwin\n",
        "\n",
        "#속성 확인\n",
        "print(Bitstored)\n",
        "print(lwin,rwin)\n",
        "print(Photometric_interpretation)\n",
        "print(Window_center,Window_width)\n",
        "print(Rescale_slope,Rescale_intercept)\n",
        "print(max, min)\n",
        "print('전처리 결과',pixel_array.max(), pixel_array.min())\n",
        "print('전처리 하지 않은 결과', pixel_array1.max(), pixel_array1.min())\n",
        "\n",
        "\n",
        "# 매트랩 mat 파일 읽기\n",
        "label_path = '/content/drive/MyDrive/challenge_data_dicom/train/label/'\n",
        "mat_path = label_path + '066.mat'\n",
        "mat_file = io.loadmat(mat_path)\n",
        "\n",
        "mat_file_name = \"label_separated.mat\"\n",
        "mat_file_value = mat_file[mat_file_name[:-4]]\n",
        "\n",
        "mat = mat_file_value\n",
        "print(type(mat))\n",
        "\n",
        "fig = plt.figure()\n",
        "rows = 1\n",
        "cols = 2\n",
        "print(mat_file_value.shape)\n",
        "\n",
        "#input\n",
        "ax1 = fig.add_subplot(rows,cols,1)\n",
        "ax1.imshow(pixel_array1, cmap='gray')\n",
        "\n",
        "#label\n",
        "ax2 = fig.add_subplot(rows,cols,2)\n",
        "ax2.imshow(pixel_array, cmap='gray')\n"
      ],
      "execution_count": null,
      "outputs": [
        {
          "output_type": "stream",
          "name": "stdout",
          "text": [
            "14\n",
            "0.15826416015625 0.84161376953125\n",
            "MONOCHROME2\n",
            "8191 11196\n",
            "1 0\n",
            "14699 2005\n",
            "전처리 결과 0.6833496 0.0\n",
            "전처리 하지 않은 결과 14699 2005\n",
            "<class 'numpy.ndarray'>\n",
            "(3264, 2132, 7)\n"
          ]
        },
        {
          "output_type": "execute_result",
          "data": {
            "text/plain": [
              "<matplotlib.image.AxesImage at 0x7eff26dba310>"
            ]
          },
          "metadata": {},
          "execution_count": 2
        },
        {
          "output_type": "display_data",
          "data": {
            "image/png": "[encoded data removed]",
            "text/plain": [
              "<Figure size 432x288 with 2 Axes>"
            ]
          },
          "metadata": {
            "needs_background": "light"
          }
        }
      ]
    },
    {
      "cell_type": "markdown",
      "source": [
        "-*** 주의: \n",
        "### 첫번째 시행에서는 위에서 pydicom이 안읽힘\n",
        "\n",
        "### pip uninstall numpy 코드 진행후\n",
        "###Process -y 입력\n",
        "###restart runtime 진행\n",
        "###이후 이 코드 실행 x\n"
      ],
      "metadata": {
        "id": "m1S-2n3vNn7D"
      }
    },
    {
      "cell_type": "code",
      "metadata": {
        "colab": {
          "base_uri": "https://localhost:8080/",
          "height": 526
        },
        "id": "5MR-QcpHk1-A",
        "outputId": "421aeacd-7934-44c3-f7ba-dafde4e88e37"
      },
      "source": [
        "!pip uninstall numpy\n",
        "!pip install numpy"
      ],
      "execution_count": null,
      "outputs": [
        {
          "output_type": "stream",
          "name": "stdout",
          "text": [
            "Found existing installation: numpy 1.19.5\n",
            "Uninstalling numpy-1.19.5:\n",
            "  Would remove:\n",
            "    /usr/bin/f2py\n",
            "    /usr/local/bin/f2py\n",
            "    /usr/local/bin/f2py3\n",
            "    /usr/local/bin/f2py3.7\n",
            "    /usr/local/lib/python3.7/dist-packages/numpy-1.19.5.dist-info/*\n",
            "    /usr/local/lib/python3.7/dist-packages/numpy.libs/libgfortran-2e0d59d6.so.5.0.0\n",
            "    /usr/local/lib/python3.7/dist-packages/numpy.libs/libopenblasp-r0-09e95953.3.13.so\n",
            "    /usr/local/lib/python3.7/dist-packages/numpy.libs/libquadmath-2d0c479f.so.0.0.0\n",
            "    /usr/local/lib/python3.7/dist-packages/numpy.libs/libz-eb09ad1d.so.1.2.3\n",
            "    /usr/local/lib/python3.7/dist-packages/numpy/*\n",
            "Proceed (y/n)? y\n",
            "  Successfully uninstalled numpy-1.19.5\n",
            "Collecting numpy\n",
            "  Downloading numpy-1.21.4-cp37-cp37m-manylinux_2_12_x86_64.manylinux2010_x86_64.whl (15.7 MB)\n",
            "\u001b[K     |████████████████████████████████| 15.7 MB 4.2 MB/s \n",
            "\u001b[?25hInstalling collected packages: numpy\n",
            "\u001b[31mERROR: pip's dependency resolver does not currently take into account all the packages that are installed. This behaviour is the source of the following dependency conflicts.\n",
            "yellowbrick 1.3.post1 requires numpy<1.20,>=1.16.0, but you have numpy 1.21.4 which is incompatible.\n",
            "datascience 0.10.6 requires folium==0.2.1, but you have folium 0.8.3 which is incompatible.\u001b[0m\n",
            "Successfully installed numpy-1.21.4\n"
          ]
        },
        {
          "output_type": "display_data",
          "data": {
            "application/vnd.colab-display-data+json": {
              "pip_warning": {
                "packages": [
                  "numpy"
                ]
              }
            }
          },
          "metadata": {}
        }
      ]
    },
    {
      "cell_type": "markdown",
      "metadata": {
        "id": "L7wy3CoAgHGx"
      },
      "source": [
        "# 3. Dataset function\n"
      ]
    },
    {
      "cell_type": "code",
      "metadata": {
        "id": "kf330dXC3Bx7"
      },
      "source": [
        "import torch\n",
        "import natsort\n",
        "class Dataset(torch.utils.data.Dataset):\n",
        "  def __init__(self, data_dir,transform = None):\n",
        "    self.data_dir =data_dir # train, val, test 구분\n",
        "    self.transform =transform\n",
        "\n",
        "    #img, label 파일 구분\n",
        "    self.data_dir_input = self.data_dir +'img'\n",
        "    self.data_dir_label = self.data_dir +'label'\n",
        "\n",
        "    #img, label에 있는 파일들 볼 수 있음 +숫자 순서대로 정렬\n",
        "    list=os.listdir(self.data_dir_input)\n",
        "    self.input=natsort.natsorted(list)\n",
        "    \n",
        "    list1=os.listdir(self.data_dir_label)\n",
        "    self.label=natsort.natsorted(list1)\n",
        "\n",
        "  def __len__(self):\n",
        "    return len(self.label)\n",
        "\n",
        "  def __getitem__(self,index):\n",
        "    #os.listdir는 모든 파일과 dir 보여줌, np로 가져오기\n",
        "    input_temp = dicom.read_file(os.path.join(self.data_dir_input,self.input[index]))\n",
        "    input = input_temp.pixel_array\n",
        "    \n",
        "    #label\n",
        "    label = io.loadmat(os.path.join(self.data_dir_label,self.label[index]))[\"label_separated\"]\n",
        "\n",
        "    #여기에서 input dicom 파일 전처리를 위한 변수\n",
        "    Rescale_slope = input_temp.RescaleSlope\n",
        "    Rescale_intercept = input_temp.RescaleIntercept\n",
        "    Window_center = input_temp.WindowCenter\n",
        "    Window_width = input_temp.WindowWidth\n",
        "    Photometric_interpretation = input_temp.PhotometricInterpretation\n",
        "    Bitstored = input_temp.BitsStored\n",
        "    lwin = (Window_center - Window_width/2)/(2**Bitstored)\n",
        "    rwin = (Window_center + Window_width/2)/(2**Bitstored)\n",
        "\n",
        "    #Bitstored 이용하여 normalize dicom image전처리\n",
        "    input = input.astype(np.float32)\n",
        "    input = input/(2**Bitstored)\n",
        "\n",
        "    #Window로 전처리\n",
        "    input[np.where(input<lwin)] = lwin\n",
        "    input[np.where(input>rwin)] = rwin\n",
        "    input = input - lwin\n",
        "\n",
        "    if input.ndim ==2:\n",
        "      input = input[:,:,np.newaxis]\n",
        "\n",
        "    #transform에 의해서는 input과 label 공통된 처리만\n",
        "    if self.transform:\n",
        "  #######concat으로 시도\n",
        "      # C = np.concatenate((input,label),axis=2)\n",
        "      # data=self.transform(image = C)\n",
        "      # data_img = data[\"image\"][0,...]\n",
        "      # data_label = data[\"image\"][1:8,...]\n",
        "      # torch.manual_seed(10)\n",
        "  ####################기본\n",
        "      data=self.transform(image = input ,mask = label)\n",
        "      data_img = data[\"image\"]\n",
        "      data_label = data[\"mask\"]\n",
        "############transform으로 시도\n",
        "    # if self.transform:\n",
        "    #   torch.manual_seed(10)\n",
        "    #   data_img = self.transform(input)\n",
        "    # if self.transform:\n",
        "    #   torch.manual_seed(10)\n",
        "    #   data_label = self.transform(label)  \n",
        "\n",
        "    # data = {'input': data_img, 'label': data_label}\n",
        "    return data_img, data_label\n"
      ],
      "execution_count": null,
      "outputs": []
    },
    {
      "cell_type": "markdown",
      "metadata": {
        "id": "WMBz5sAQdlqW"
      },
      "source": [
        "# 4. Model 설정"
      ]
    },
    {
      "cell_type": "markdown",
      "metadata": {
        "id": "inv78-cHdpfU"
      },
      "source": [
        "## 4-1) UNet"
      ]
    },
    {
      "cell_type": "code",
      "metadata": {
        "id": "B-qJrnFIdk2n"
      },
      "source": [
        "import torchvision.transforms.functional as TF\n",
        "\n",
        "class DoubleConv(nn.Module):\n",
        "    def __init__(self, in_channels, out_channels):\n",
        "        super(DoubleConv, self).__init__()\n",
        "        self.conv = nn.Sequential(\n",
        "            nn.Conv2d(in_channels, out_channels, 3, 1, 1, bias=False),\n",
        "            nn.BatchNorm2d(out_channels),\n",
        "            nn.ReLU(inplace=True),\n",
        "            nn.Conv2d(out_channels, out_channels, 3, 1, 1, bias=False),\n",
        "            nn.BatchNorm2d(out_channels),\n",
        "            nn.ReLU(inplace=True),\n",
        "        )\n",
        "    def forward(self, x):\n",
        "        return self.conv(x)\n",
        "\n",
        "class UNET(nn.Module):\n",
        "    def __init__(self, in_channels=3, out_channels=1, features=[64, 128, 256, 512],):\n",
        "        super(UNET, self).__init__()\n",
        "        self.ups = nn.ModuleList()\n",
        "        self.downs = nn.ModuleList()\n",
        "        self.pool = nn.MaxPool2d(kernel_size=2, stride=2)\n",
        "\n",
        "        # Down part of UNET\n",
        "        for feature in features:\n",
        "            self.downs.append(DoubleConv(in_channels, feature))\n",
        "            in_channels = feature\n",
        "\n",
        "        # Up part of UNET\n",
        "        for feature in reversed(features):\n",
        "            self.ups.append(\n",
        "                nn.ConvTranspose2d(\n",
        "                    feature*2, feature, kernel_size=2, stride=2,\n",
        "                )\n",
        "            )\n",
        "            self.ups.append(DoubleConv(feature*2, feature))\n",
        "\n",
        "        self.bottleneck = DoubleConv(features[-1], features[-1]*2)\n",
        "        self.final_conv = nn.Conv2d(features[0], out_channels, kernel_size=1)\n",
        "\n",
        "    def forward(self, x):\n",
        "        \n",
        "        skip_connections = []\n",
        "\n",
        "        for down in self.downs:\n",
        "            x = down(x)\n",
        "            skip_connections.append(x)\n",
        "            x = self.pool(x)\n",
        "\n",
        "        x = self.bottleneck(x)\n",
        "        skip_connections = skip_connections[::-1] #skip connection에 저장한 순서와 반대로 넣어줘야함. ::-1이 그 동작임\n",
        "\n",
        "        for idx in range(0, len(self.ups), 2): \n",
        "            x = self.ups[idx](x)\n",
        "            skip_connection = skip_connections[idx//2] \n",
        "\n",
        "            if x.shape != skip_connection.shape:\n",
        "                x = TF.resize(x, size=skip_connection.shape[2:])\n",
        "\n",
        "            concat_skip = torch.cat((skip_connection, x), dim=1)\n",
        "            x = self.ups[idx+1](concat_skip) \n",
        "        \n",
        "        return self.final_conv(x)"
      ],
      "execution_count": null,
      "outputs": []
    },
    {
      "cell_type": "markdown",
      "source": [
        "##4-2 Unet ++"
      ],
      "metadata": {
        "id": "JWAHCZNNfOKt"
      }
    },
    {
      "cell_type": "code",
      "source": [
        "class Unet_block(nn.Module):\n",
        "    def __init__(self, in_channels, mid_channels, out_channels):\n",
        "        super().__init__()\n",
        "        self.conv1 = nn.Conv2d(in_channels, mid_channels, kernel_size=3, stride=1, padding=1)\n",
        "        self.bn1 = nn.BatchNorm2d(mid_channels)\n",
        "        self.conv2 = nn.Conv2d(mid_channels, out_channels, kernel_size=3, stride=1, padding=1)\n",
        "        self.bn2 = nn.BatchNorm2d(out_channels)        \n",
        "        self.relu = nn.ReLU(inplace=True)\n",
        "\n",
        "    def forward(self, x):\n",
        "        out = self.conv1(x)\n",
        "        out = self.bn1(out)\n",
        "        out = self.relu(out)\n",
        "\n",
        "        out = self.conv2(out)\n",
        "        out = self.bn2(out)\n",
        "        out = self.relu(out)\n",
        "        return out\n",
        "\n",
        "class Nested_UNet(nn.Module):\n",
        "    def __init__(self, num_classes, input_channels=3, deep_supervision=False):\n",
        "        super().__init__()\n",
        "\n",
        "        num_filter = [32, 64, 128, 256, 512]\n",
        "        self.deep_supervision = deep_supervision\n",
        "        self.pool = nn.MaxPool2d(kernel_size=2, stride=2)\n",
        "        self.up = nn.Upsample(scale_factor=2, mode='bilinear', align_corners=True)\n",
        "        \n",
        "        # DownSampling\n",
        "        self.conv0_0 = Unet_block(input_channels, num_filter[0], num_filter[0])\n",
        "        self.conv1_0 = Unet_block(num_filter[0], num_filter[1], num_filter[1])\n",
        "        self.conv2_0 = Unet_block(num_filter[1], num_filter[2], num_filter[2])\n",
        "        self.conv3_0 = Unet_block(num_filter[2], num_filter[3], num_filter[3])\n",
        "        self.conv4_0 = Unet_block(num_filter[3], num_filter[4], num_filter[4])\n",
        "\n",
        "        # Upsampling & Dense skip\n",
        "        # N to 1 skip\n",
        "        self.conv0_1 = Unet_block(num_filter[0] + num_filter[1], num_filter[0], num_filter[0])\n",
        "        self.conv1_1 = Unet_block(num_filter[1] + num_filter[2], num_filter[1], num_filter[1])\n",
        "        self.conv2_1 = Unet_block(num_filter[2] + num_filter[3], num_filter[2], num_filter[2])\n",
        "        self.conv3_1 = Unet_block(num_filter[3] + num_filter[4], num_filter[3], num_filter[3])\n",
        "       \n",
        "        # N to 2 skip\n",
        "        self.conv0_2 = Unet_block(num_filter[0]*2 + num_filter[1], num_filter[0], num_filter[0])\n",
        "        self.conv1_2 = Unet_block(num_filter[1]*2 + num_filter[2], num_filter[1], num_filter[1])\n",
        "        self.conv2_2 = Unet_block(num_filter[2]*2 + num_filter[3], num_filter[2], num_filter[2])\n",
        "\n",
        "        # N to 3 skip\n",
        "        self.conv0_3 = Unet_block(num_filter[0]*3 + num_filter[1], num_filter[0], num_filter[0])\n",
        "        self.conv1_3 = Unet_block(num_filter[1]*3 + num_filter[2], num_filter[1], num_filter[1])\n",
        "\n",
        "        # N to 4 skip\n",
        "        self.conv0_4 = Unet_block(num_filter[0]*4 + num_filter[1], num_filter[0], num_filter[0])\n",
        "\n",
        "        if self.deep_supervision:\n",
        "            self.output1 = nn.Conv2d(num_filter[0], num_classes, kernel_size=1)\n",
        "            self.output2 = nn.Conv2d(num_filter[0], num_classes, kernel_size=1)\n",
        "            self.output3 = nn.Conv2d(num_filter[0], num_classes, kernel_size=1)\n",
        "            self.output4 = nn.Conv2d(num_filter[0], num_classes, kernel_size=1)\n",
        "\n",
        "        else:\n",
        "            self.output = nn.Conv2d(num_filter[0], num_classes, kernel_size=1)\n",
        "\n",
        "    def forward(self, x):                    # (Batch, 3, 256, 256)\n",
        "\n",
        "        x0_0 = self.conv0_0(x)               \n",
        "        x1_0 = self.conv1_0(self.pool(x0_0))\n",
        "        x0_1 = self.conv0_1(torch.cat([x0_0, self.up(x1_0)], dim=1))\n",
        "        \n",
        "        x2_0 = self.conv2_0(self.pool(x1_0))\n",
        "        x1_1 = self.conv1_1(torch.cat([x1_0, self.up(x2_0)], dim=1))\n",
        "        x0_2 = self.conv0_2(torch.cat([x0_0, x0_1, self.up(x1_1)], dim=1))\n",
        "\n",
        "        x3_0 = self.conv3_0(self.pool(x2_0))\n",
        "        x2_1 = self.conv2_1(torch.cat([x2_0, self.up(x3_0)], dim=1))\n",
        "        x1_2 = self.conv1_2(torch.cat([x1_0, x1_1, self.up(x2_1)], dim=1))\n",
        "        x0_3 = self.conv0_3(torch.cat([x0_0, x0_1, x0_2, self.up(x1_2)], dim=1))\n",
        "\n",
        "        x4_0 = self.conv4_0(self.pool(x3_0))\n",
        "        x3_1 = self.conv3_1(torch.cat([x3_0, self.up(x4_0)], dim=1))\n",
        "        x2_2 = self.conv2_2(torch.cat([x2_0, x2_1, self.up(x3_1)], dim=1))\n",
        "        x1_3 = self.conv1_3(torch.cat([x1_0, x1_1, x1_2, self.up(x2_2)], dim=1))\n",
        "        x0_4 = self.conv0_4(torch.cat([x0_0, x0_1, x0_2, x0_3, self.up(x1_3)], dim=1))\n",
        "\n",
        "        if self.deep_supervision:\n",
        "            output1 = self.output1(x0_1)\n",
        "            output2 = self.output2(x0_2)\n",
        "            output3 = self.output3(x0_3)\n",
        "            output4 = self.output4(x0_4)\n",
        "            output = (output1 + output2 + output3 + output4) / 4\n",
        "        else:\n",
        "            output = self.output(x0_4)\n",
        "\n",
        "        return output\n"
      ],
      "metadata": {
        "id": "f4NCnYFUfRwj"
      },
      "execution_count": null,
      "outputs": []
    },
    {
      "cell_type": "markdown",
      "metadata": {
        "id": "O67nBXaCrY0E"
      },
      "source": [
        "# 5. parameters"
      ]
    },
    {
      "cell_type": "markdown",
      "source": [
        "- dataset, dataloader 생성"
      ],
      "metadata": {
        "id": "ZjPoAMql_1Vz"
      }
    },
    {
      "cell_type": "code",
      "metadata": {
        "id": "r26X_W-H8Yqf"
      },
      "source": [
        "data_dir = '/content/drive/MyDrive/challenge_data_dicom/'\n",
        "from torchvision import transforms\n",
        "batch_size = 20\n",
        "LEARNING_RATE= 1e-3\n",
        "\n",
        "# transform에 사용하는 parameters\n",
        "IMAGE_HEIGHT = 96  \n",
        "IMAGE_WIDTH = 96  \n",
        "\n",
        "transform_train = A.Compose(\n",
        "        [\n",
        "            A.Resize(height=IMAGE_HEIGHT, width=IMAGE_WIDTH),\n",
        "            # A.Rotate(limit=20, p=1), #-20~20\n",
        "            # A.HorizontalFlip(p=0.5),\n",
        "            A.Normalize(\n",
        "                mean=[0.0],\n",
        "                std=[1.0],\n",
        "                max_pixel_value=1.0,\n",
        "            ),\n",
        "            ToTensorV2(),\n",
        "        ],\n",
        "    )\n",
        "# transform_train1 = transforms.Compose(\n",
        "#         [   transforms.ToPILImage(),\n",
        "#             transforms.Resize((IMAGE_HEIGHT,IMAGE_WIDTH)),\n",
        "#             transforms.RandomRotation(degrees=20), \n",
        "#             #transforms.HorizontalFlip(p=0.5),\n",
        "#             transforms.ToTensor(),\n",
        "#             transforms.Normalize(\n",
        "#                 mean=0.0,\n",
        "#                 std=1.0,\n",
        "#             ),\n",
        "            \n",
        "#         ],\n",
        "#     )\n",
        "transform_val =A.Compose(\n",
        "        [\n",
        "            A.Resize(height=IMAGE_HEIGHT, width=IMAGE_WIDTH),\n",
        "            A.Normalize(\n",
        "                mean=[0.0],\n",
        "                std=[1.0],\n",
        "                max_pixel_value=1.0,\n",
        "            ),\n",
        "            ToTensorV2(),\n",
        "        ],\n",
        "    )\n",
        "\n",
        "# Train Dataset, Dataloader 생성\n",
        "dataset_train = Dataset(data_dir=os.path.join(data_dir,'train/'), transform = transform_train) #\n",
        "loader_train = DataLoader(dataset_train, batch_size=batch_size, shuffle=True, num_workers=0)\n",
        "\n",
        "#validation 평가시 이용\n",
        "# dataset_val = Dataset(data_dir=os.path.join(data_dir,'train_val/val1/'), transform = transform_val) \n",
        "# loader_val = DataLoader(dataset_val, batch_size=batch_size, shuffle=False, num_workers=0)\n"
      ],
      "execution_count": null,
      "outputs": []
    },
    {
      "cell_type": "markdown",
      "source": [
        "- 생성된 dataset 확인해볼 수 있음."
      ],
      "metadata": {
        "id": "uHZTHwn2_gsr"
      }
    },
    {
      "cell_type": "code",
      "source": [
        "import cv2\n",
        "#trainset 거친 후 확인 과정\n",
        "# input data는 CHW로 변환 되는데 label data는 HWC 그대로 인것을 확인 => train에서 추가로 진행해줌\n",
        "fig = plt.figure()\n",
        "rows = 1\n",
        "cols = 3\n",
        "\n",
        "#train-input\n",
        "i=7\n",
        "input = dataset_train[i][0][0,...].numpy() #1channel이여서 확인하려면 index0.\n",
        "input1 = dataset_train[i][0].numpy() #train input의 shape을 확인하기 위해 다 가져옴\n",
        "print(input1.shape) #CHW\n",
        "\n",
        "#train-label\n",
        "label=dataset_train[i][1][...,6].numpy() #\n",
        "label1 = dataset_train[i][1].numpy()\n",
        "print('label shape',label1.shape) #HWC\n",
        "\n",
        "\n",
        "ax1 = fig.add_subplot(rows,cols,1)\n",
        "ax1.imshow(input, cmap='gray')\n",
        "\n",
        "ax2 = fig.add_subplot(rows,cols,2)\n",
        "ax2.imshow(label, cmap='gray')"
      ],
      "metadata": {
        "colab": {
          "base_uri": "https://localhost:8080/",
          "height": 205
        },
        "id": "9cULQ1yBojIC",
        "outputId": "5309a8a1-0025-43d1-eace-0f33ab8ae59a"
      },
      "execution_count": null,
      "outputs": [
        {
          "output_type": "stream",
          "name": "stdout",
          "text": [
            "(1, 96, 96)\n",
            "label shape (96, 96, 7)\n"
          ]
        },
        {
          "output_type": "execute_result",
          "data": {
            "text/plain": [
              "<matplotlib.image.AxesImage at 0x7eff26747c90>"
            ]
          },
          "metadata": {},
          "execution_count": 8
        },
        {
          "output_type": "display_data",
          "data": {
            "image/png": "[encoded data removed]",
            "text/plain": [
              "<Figure size 432x288 with 2 Axes>"
            ]
          },
          "metadata": {
            "needs_background": "light"
          }
        }
      ]
    },
    {
      "cell_type": "markdown",
      "source": [
        "- 모델, optimizer"
      ],
      "metadata": {
        "id": "Sem8FQCf_6V7"
      }
    },
    {
      "cell_type": "markdown",
      "source": [
        "- Dice coefficient 함수"
      ],
      "metadata": {
        "id": "nR3gh8rx_y09"
      }
    },
    {
      "cell_type": "code",
      "metadata": {
        "id": "P7n7G_zu0-wq"
      },
      "source": [
        "#Dice coefficient loss func\n",
        "\n",
        "def dice_loss(pred, target, smooth = 1e-5):\n",
        "    # binary cross entropy loss, BCE 사용하면 음의 값 나오는 상황...\n",
        "    #bce = F.binary_cross_entropy_with_logits(pred, target, reduction='mean')\n",
        "    \n",
        "    #pred에 sigmoid를 줘야할까 => 0~1사이로 값 맞춰주기 위해\n",
        "    pred = torch.sigmoid(pred)\n",
        "    intersection = pred * target\n",
        "    union = pred + target\n",
        "    \n",
        "    # dice coefficient\n",
        "    dice = 2.0 * (intersection.sum(dim=(2,3)) + smooth) / (union.sum(dim=(2,3)) + smooth)\n",
        "    \n",
        "    # dice loss\n",
        "    dice_loss = 1.0 - dice\n",
        "    \n",
        "    # total loss\n",
        "    loss =dice_loss #+ bce\n",
        "    \n",
        "    return loss.sum()\n"
      ],
      "execution_count": null,
      "outputs": []
    },
    {
      "cell_type": "code",
      "metadata": {
        "id": "0xGvJjr3P6lS"
      },
      "source": [
        "DEVICE = torch.device(\"cuda:0\" if torch.cuda.is_available() else \"cpu\")\n",
        "# U-net\n",
        "#my_model = UNET(in_channels=1, out_channels=7).to(device=DEVICE)\n",
        "\n",
        "#U-net ++\n",
        "my_model = Nested_UNet(num_classes = 7,input_channels=1).to(device=DEVICE)\n",
        "\n",
        "\n",
        "#Optimizer\n",
        "my_optimizer = optim.Adam(my_model.parameters(), lr=LEARNING_RATE)\n",
        "\n",
        "#Scaler\n",
        "scaler = torch.cuda.amp.GradScaler()\n",
        "\n",
        "# # of epoch\n",
        "num_epoch = 100"
      ],
      "execution_count": null,
      "outputs": []
    },
    {
      "cell_type": "markdown",
      "source": [
        "- 학습된 가중치 불러오기"
      ],
      "metadata": {
        "id": "YrfecgaOsW_b"
      }
    },
    {
      "cell_type": "code",
      "source": [
        "PATH= '/content/drive/MyDrive/challenge_data_dicom/Store/weights/'\n",
        "def save_checkpoint(state, filename=PATH+\"my_checkpoint_ver4.1_valid_unetplus.pth.tar\"):\n",
        "    print(\"=> Saving checkpoint\")\n",
        "    torch.save(state, filename)\n",
        "\n",
        "def load_checkpoint(checkpoint, model):\n",
        "    print(\"=> Loading checkpoint\")\n",
        "    model.load_state_dict(checkpoint[\"state_dict\"])"
      ],
      "metadata": {
        "id": "lakZO69-bFxP"
      },
      "execution_count": null,
      "outputs": []
    },
    {
      "cell_type": "code",
      "source": [
        "#my_model = UNET(in_channels=1, out_channels=7).to(device=DEVICE)\n",
        "my_model = Nested_UNet(num_classes = 7,input_channels=1).to(device=DEVICE)\n",
        "my_optimizer = optim.Adam(my_model.parameters(), lr=LEARNING_RATE)\n",
        "\n",
        "load_checkpoint(torch.load(PATH+\"my_checkpoint_ver4.1_valid_unetplus.pth.tar\"), my_model)\n",
        "\n",
        "scaler = torch.cuda.amp.GradScaler()\n",
        "#이렇게 불러온 이후에 \n",
        "#학습에 사용할 거면 \n",
        "my_model.train()\n",
        "\n",
        "#평가에 사용시\n",
        "#my_model.eval()"
      ],
      "metadata": {
        "colab": {
          "base_uri": "https://localhost:8080/"
        },
        "id": "P28-TNIppUbr",
        "outputId": "5cbda23c-fb00-467b-dfd5-39a27b2031f8"
      },
      "execution_count": null,
      "outputs": [
        {
          "output_type": "stream",
          "name": "stdout",
          "text": [
            "=> Loading checkpoint\n"
          ]
        },
        {
          "output_type": "execute_result",
          "data": {
            "text/plain": [
              "Nested_UNet(\n",
              "  (pool): MaxPool2d(kernel_size=2, stride=2, padding=0, dilation=1, ceil_mode=False)\n",
              "  (up): Upsample(scale_factor=2.0, mode=bilinear)\n",
              "  (conv0_0): Unet_block(\n",
              "    (conv1): Conv2d(1, 32, kernel_size=(3, 3), stride=(1, 1), padding=(1, 1))\n",
              "    (bn1): BatchNorm2d(32, eps=1e-05, momentum=0.1, affine=True, track_running_stats=True)\n",
              "    (conv2): Conv2d(32, 32, kernel_size=(3, 3), stride=(1, 1), padding=(1, 1))\n",
              "    (bn2): BatchNorm2d(32, eps=1e-05, momentum=0.1, affine=True, track_running_stats=True)\n",
              "    (relu): ReLU(inplace=True)\n",
              "  )\n",
              "  (conv1_0): Unet_block(\n",
              "    (conv1): Conv2d(32, 64, kernel_size=(3, 3), stride=(1, 1), padding=(1, 1))\n",
              "    (bn1): BatchNorm2d(64, eps=1e-05, momentum=0.1, affine=True, track_running_stats=True)\n",
              "    (conv2): Conv2d(64, 64, kernel_size=(3, 3), stride=(1, 1), padding=(1, 1))\n",
              "    (bn2): BatchNorm2d(64, eps=1e-05, momentum=0.1, affine=True, track_running_stats=True)\n",
              "    (relu): ReLU(inplace=True)\n",
              "  )\n",
              "  (conv2_0): Unet_block(\n",
              "    (conv1): Conv2d(64, 128, kernel_size=(3, 3), stride=(1, 1), padding=(1, 1))\n",
              "    (bn1): BatchNorm2d(128, eps=1e-05, momentum=0.1, affine=True, track_running_stats=True)\n",
              "    (conv2): Conv2d(128, 128, kernel_size=(3, 3), stride=(1, 1), padding=(1, 1))\n",
              "    (bn2): BatchNorm2d(128, eps=1e-05, momentum=0.1, affine=True, track_running_stats=True)\n",
              "    (relu): ReLU(inplace=True)\n",
              "  )\n",
              "  (conv3_0): Unet_block(\n",
              "    (conv1): Conv2d(128, 256, kernel_size=(3, 3), stride=(1, 1), padding=(1, 1))\n",
              "    (bn1): BatchNorm2d(256, eps=1e-05, momentum=0.1, affine=True, track_running_stats=True)\n",
              "    (conv2): Conv2d(256, 256, kernel_size=(3, 3), stride=(1, 1), padding=(1, 1))\n",
              "    (bn2): BatchNorm2d(256, eps=1e-05, momentum=0.1, affine=True, track_running_stats=True)\n",
              "    (relu): ReLU(inplace=True)\n",
              "  )\n",
              "  (conv4_0): Unet_block(\n",
              "    (conv1): Conv2d(256, 512, kernel_size=(3, 3), stride=(1, 1), padding=(1, 1))\n",
              "    (bn1): BatchNorm2d(512, eps=1e-05, momentum=0.1, affine=True, track_running_stats=True)\n",
              "    (conv2): Conv2d(512, 512, kernel_size=(3, 3), stride=(1, 1), padding=(1, 1))\n",
              "    (bn2): BatchNorm2d(512, eps=1e-05, momentum=0.1, affine=True, track_running_stats=True)\n",
              "    (relu): ReLU(inplace=True)\n",
              "  )\n",
              "  (conv0_1): Unet_block(\n",
              "    (conv1): Conv2d(96, 32, kernel_size=(3, 3), stride=(1, 1), padding=(1, 1))\n",
              "    (bn1): BatchNorm2d(32, eps=1e-05, momentum=0.1, affine=True, track_running_stats=True)\n",
              "    (conv2): Conv2d(32, 32, kernel_size=(3, 3), stride=(1, 1), padding=(1, 1))\n",
              "    (bn2): BatchNorm2d(32, eps=1e-05, momentum=0.1, affine=True, track_running_stats=True)\n",
              "    (relu): ReLU(inplace=True)\n",
              "  )\n",
              "  (conv1_1): Unet_block(\n",
              "    (conv1): Conv2d(192, 64, kernel_size=(3, 3), stride=(1, 1), padding=(1, 1))\n",
              "    (bn1): BatchNorm2d(64, eps=1e-05, momentum=0.1, affine=True, track_running_stats=True)\n",
              "    (conv2): Conv2d(64, 64, kernel_size=(3, 3), stride=(1, 1), padding=(1, 1))\n",
              "    (bn2): BatchNorm2d(64, eps=1e-05, momentum=0.1, affine=True, track_running_stats=True)\n",
              "    (relu): ReLU(inplace=True)\n",
              "  )\n",
              "  (conv2_1): Unet_block(\n",
              "    (conv1): Conv2d(384, 128, kernel_size=(3, 3), stride=(1, 1), padding=(1, 1))\n",
              "    (bn1): BatchNorm2d(128, eps=1e-05, momentum=0.1, affine=True, track_running_stats=True)\n",
              "    (conv2): Conv2d(128, 128, kernel_size=(3, 3), stride=(1, 1), padding=(1, 1))\n",
              "    (bn2): BatchNorm2d(128, eps=1e-05, momentum=0.1, affine=True, track_running_stats=True)\n",
              "    (relu): ReLU(inplace=True)\n",
              "  )\n",
              "  (conv3_1): Unet_block(\n",
              "    (conv1): Conv2d(768, 256, kernel_size=(3, 3), stride=(1, 1), padding=(1, 1))\n",
              "    (bn1): BatchNorm2d(256, eps=1e-05, momentum=0.1, affine=True, track_running_stats=True)\n",
              "    (conv2): Conv2d(256, 256, kernel_size=(3, 3), stride=(1, 1), padding=(1, 1))\n",
              "    (bn2): BatchNorm2d(256, eps=1e-05, momentum=0.1, affine=True, track_running_stats=True)\n",
              "    (relu): ReLU(inplace=True)\n",
              "  )\n",
              "  (conv0_2): Unet_block(\n",
              "    (conv1): Conv2d(128, 32, kernel_size=(3, 3), stride=(1, 1), padding=(1, 1))\n",
              "    (bn1): BatchNorm2d(32, eps=1e-05, momentum=0.1, affine=True, track_running_stats=True)\n",
              "    (conv2): Conv2d(32, 32, kernel_size=(3, 3), stride=(1, 1), padding=(1, 1))\n",
              "    (bn2): BatchNorm2d(32, eps=1e-05, momentum=0.1, affine=True, track_running_stats=True)\n",
              "    (relu): ReLU(inplace=True)\n",
              "  )\n",
              "  (conv1_2): Unet_block(\n",
              "    (conv1): Conv2d(256, 64, kernel_size=(3, 3), stride=(1, 1), padding=(1, 1))\n",
              "    (bn1): BatchNorm2d(64, eps=1e-05, momentum=0.1, affine=True, track_running_stats=True)\n",
              "    (conv2): Conv2d(64, 64, kernel_size=(3, 3), stride=(1, 1), padding=(1, 1))\n",
              "    (bn2): BatchNorm2d(64, eps=1e-05, momentum=0.1, affine=True, track_running_stats=True)\n",
              "    (relu): ReLU(inplace=True)\n",
              "  )\n",
              "  (conv2_2): Unet_block(\n",
              "    (conv1): Conv2d(512, 128, kernel_size=(3, 3), stride=(1, 1), padding=(1, 1))\n",
              "    (bn1): BatchNorm2d(128, eps=1e-05, momentum=0.1, affine=True, track_running_stats=True)\n",
              "    (conv2): Conv2d(128, 128, kernel_size=(3, 3), stride=(1, 1), padding=(1, 1))\n",
              "    (bn2): BatchNorm2d(128, eps=1e-05, momentum=0.1, affine=True, track_running_stats=True)\n",
              "    (relu): ReLU(inplace=True)\n",
              "  )\n",
              "  (conv0_3): Unet_block(\n",
              "    (conv1): Conv2d(160, 32, kernel_size=(3, 3), stride=(1, 1), padding=(1, 1))\n",
              "    (bn1): BatchNorm2d(32, eps=1e-05, momentum=0.1, affine=True, track_running_stats=True)\n",
              "    (conv2): Conv2d(32, 32, kernel_size=(3, 3), stride=(1, 1), padding=(1, 1))\n",
              "    (bn2): BatchNorm2d(32, eps=1e-05, momentum=0.1, affine=True, track_running_stats=True)\n",
              "    (relu): ReLU(inplace=True)\n",
              "  )\n",
              "  (conv1_3): Unet_block(\n",
              "    (conv1): Conv2d(320, 64, kernel_size=(3, 3), stride=(1, 1), padding=(1, 1))\n",
              "    (bn1): BatchNorm2d(64, eps=1e-05, momentum=0.1, affine=True, track_running_stats=True)\n",
              "    (conv2): Conv2d(64, 64, kernel_size=(3, 3), stride=(1, 1), padding=(1, 1))\n",
              "    (bn2): BatchNorm2d(64, eps=1e-05, momentum=0.1, affine=True, track_running_stats=True)\n",
              "    (relu): ReLU(inplace=True)\n",
              "  )\n",
              "  (conv0_4): Unet_block(\n",
              "    (conv1): Conv2d(192, 32, kernel_size=(3, 3), stride=(1, 1), padding=(1, 1))\n",
              "    (bn1): BatchNorm2d(32, eps=1e-05, momentum=0.1, affine=True, track_running_stats=True)\n",
              "    (conv2): Conv2d(32, 32, kernel_size=(3, 3), stride=(1, 1), padding=(1, 1))\n",
              "    (bn2): BatchNorm2d(32, eps=1e-05, momentum=0.1, affine=True, track_running_stats=True)\n",
              "    (relu): ReLU(inplace=True)\n",
              "  )\n",
              "  (output): Conv2d(32, 7, kernel_size=(1, 1), stride=(1, 1))\n",
              ")"
            ]
          },
          "metadata": {},
          "execution_count": 12
        }
      ]
    },
    {
      "cell_type": "markdown",
      "metadata": {
        "id": "mlWcKKIlzByf"
      },
      "source": [
        "# 6. Network training"
      ]
    },
    {
      "cell_type": "markdown",
      "metadata": {
        "id": "c1b3f_uo0BRc"
      },
      "source": [
        "## 6-1 network train"
      ]
    },
    {
      "cell_type": "code",
      "source": [
        "PATH= '/content/drive/MyDrive/challenge_data_dicom/Store/weights/'\n",
        "\n",
        "my_model.train()\n",
        "running_loss = []\n",
        "valid_loss = []\n",
        "for epoch in range(num_epoch):\n",
        "  run_loss = 0.0\n",
        "  val_loss = 0.0\n",
        "  print(\"Epoch: (%d / %d)\" %(epoch,num_epoch))\n",
        "  my_model.train()\n",
        "  for i, (data, targets) in enumerate(loader_train): #HWC CHW\n",
        "        # if(i%2 == 0):\n",
        "        #   print(\"Epoch percentage: %.2f%% \"%(i*100/(120/batch_size)))\n",
        "        data = data.to(device=DEVICE) \n",
        "        targets = targets.float().to(device=DEVICE)\n",
        "        if(targets.shape[1] != 7): #근데 애초에 이것도 변형 안되는게 이상한건데...1111111111111111111111111111111111111111111111111111111\n",
        "          targets = targets.permute(0,3,1,2)\n",
        "          \n",
        "        # forward\n",
        "        with torch.cuda.amp.autocast():\n",
        "          predictions = my_model(data)\n",
        "          loss = dice_loss(predictions, targets)\n",
        "          \n",
        "        # backward\n",
        "        my_optimizer.zero_grad()\n",
        "        \n",
        "        #backpropagation\n",
        "        scaler.scale(loss).backward()\n",
        "        \n",
        "        #1-step update on our parameter\n",
        "        scaler.step(my_optimizer)\n",
        "        scaler.update()\n",
        "        run_loss += loss.item()\n",
        "\n",
        "  # save running loss\n",
        "  running_loss.append(run_loss/len(loader_train)) #epoch 1회당\n",
        "  print('Epoch %d ,training Dice loss: %.3f' %(epoch + 1, run_loss/len(loader_train)))\n",
        "  #1\n",
        "  checkpoint = {# Pytorch에서 모델의 state_dict은 학습가능한 매개변수 (weight & bias)가 담겨있는 딕셔너리(Dictionary)입니다. \n",
        "                  \"state_dict\": my_model.state_dict(),\n",
        "                  \"optimizer\":my_optimizer.state_dict(),}\n",
        "  save_checkpoint(checkpoint)\n",
        "    #2\n",
        "  torch.save(my_model,PATH+'model.pt') #전체 모델 저장\n",
        "  torch.save(my_model.state_dict(),PATH + 'model_state_dict.pt')\n",
        "  torch.save({'model':my_model.state_dict(),\n",
        "                        'optimizer':my_optimizer.state_dict()\n",
        "                        }, PATH +'all.tar')              \n",
        "        \n",
        "  #########validation test\n",
        "  # my_model.eval()\n",
        "  # if(epoch %5 ==0):\n",
        "  #   with torch.no_grad():\n",
        "  #     for i, (data_valid, targets_valid) in enumerate(loader_val): #HWC CHW\n",
        "  #       data_valid = data_valid.to(device=DEVICE) \n",
        "  #       targets_valid = targets_valid.float().to(device=DEVICE)\n",
        "  #       if(targets_valid.shape[1] != 7): #HWC ->CHW\n",
        "  #         targets_valid = targets_valid.permute(0,3,1,2)  \n",
        "\n",
        "  #       with torch.cuda.amp.autocast():\n",
        "  #         predictions_valid = my_model(data_valid)\n",
        "  #         loss_valid = dice_loss(predictions_valid, targets_valid)  \n",
        "  #         val_loss +=loss_valid.item()\n",
        "    \n",
        "  #     valid_loss.append(val_loss/len(loader_val))\n",
        "  #     print('Epoch %d, Valid Dice loss: %.3f' %(epoch + 1, val_loss/len(loader_val)))\n",
        "\n",
        "\n",
        "print('Finished Training')\n",
        "#그래프로 training loss, valid loss\n",
        "fig = plt.figure(figsize=(8,3))\n",
        "ax1 =fig.add_subplot(1,2,1)\n",
        "ax2 =fig.add_subplot(1,2,2)\n",
        "ax1.plot(running_loss)\n",
        "# ax2.plot(valid_loss)\n",
        "\n"
      ],
      "metadata": {
        "colab": {
          "base_uri": "https://localhost:8080/",
          "height": 1000
        },
        "id": "wiAGTGwOyqMb",
        "outputId": "eca0e526-8e18-4ab0-a4d9-4ed7ec411169"
      },
      "execution_count": null,
      "outputs": [
        {
          "output_type": "stream",
          "name": "stdout",
          "text": [
            "Epoch: (0 / 100)\n",
            "Epoch 1 ,training Dice loss: 122.590\n",
            "=> Saving checkpoint\n",
            "Epoch: (1 / 100)\n",
            "Epoch 2 ,training Dice loss: 121.022\n",
            "=> Saving checkpoint\n",
            "Epoch: (2 / 100)\n",
            "Epoch 3 ,training Dice loss: 119.698\n",
            "=> Saving checkpoint\n",
            "Epoch: (3 / 100)\n",
            "Epoch 4 ,training Dice loss: 118.912\n",
            "=> Saving checkpoint\n",
            "Epoch: (4 / 100)\n",
            "Epoch 5 ,training Dice loss: 118.439\n",
            "=> Saving checkpoint\n",
            "Epoch: (5 / 100)\n",
            "Epoch 6 ,training Dice loss: 118.099\n",
            "=> Saving checkpoint\n",
            "Epoch: (6 / 100)\n",
            "Epoch 7 ,training Dice loss: 117.617\n",
            "=> Saving checkpoint\n",
            "Epoch: (7 / 100)\n",
            "Epoch 8 ,training Dice loss: 117.279\n",
            "=> Saving checkpoint\n",
            "Epoch: (8 / 100)\n",
            "Epoch 9 ,training Dice loss: 117.020\n",
            "=> Saving checkpoint\n",
            "Epoch: (9 / 100)\n",
            "Epoch 10 ,training Dice loss: 116.668\n",
            "=> Saving checkpoint\n",
            "Epoch: (10 / 100)\n",
            "Epoch 11 ,training Dice loss: 116.453\n",
            "=> Saving checkpoint\n",
            "Epoch: (11 / 100)\n",
            "Epoch 12 ,training Dice loss: 116.082\n",
            "=> Saving checkpoint\n",
            "Epoch: (12 / 100)\n",
            "Epoch 13 ,training Dice loss: 115.753\n",
            "=> Saving checkpoint\n",
            "Epoch: (13 / 100)\n",
            "Epoch 14 ,training Dice loss: 115.452\n",
            "=> Saving checkpoint\n",
            "Epoch: (14 / 100)\n",
            "Epoch 15 ,training Dice loss: 115.196\n",
            "=> Saving checkpoint\n",
            "Epoch: (15 / 100)\n",
            "Epoch 16 ,training Dice loss: 114.756\n",
            "=> Saving checkpoint\n",
            "Epoch: (16 / 100)\n",
            "Epoch 17 ,training Dice loss: 114.359\n",
            "=> Saving checkpoint\n",
            "Epoch: (17 / 100)\n",
            "Epoch 18 ,training Dice loss: 113.973\n",
            "=> Saving checkpoint\n",
            "Epoch: (18 / 100)\n",
            "Epoch 19 ,training Dice loss: 113.382\n",
            "=> Saving checkpoint\n",
            "Epoch: (19 / 100)\n",
            "Epoch 20 ,training Dice loss: 112.828\n",
            "=> Saving checkpoint\n",
            "Epoch: (20 / 100)\n",
            "Epoch 21 ,training Dice loss: 112.255\n",
            "=> Saving checkpoint\n",
            "Epoch: (21 / 100)\n",
            "Epoch 22 ,training Dice loss: 111.329\n",
            "=> Saving checkpoint\n",
            "Epoch: (22 / 100)\n",
            "Epoch 23 ,training Dice loss: 110.342\n",
            "=> Saving checkpoint\n",
            "Epoch: (23 / 100)\n",
            "Epoch 24 ,training Dice loss: 109.399\n",
            "=> Saving checkpoint\n",
            "Epoch: (24 / 100)\n",
            "Epoch 25 ,training Dice loss: 107.982\n",
            "=> Saving checkpoint\n",
            "Epoch: (25 / 100)\n",
            "Epoch 26 ,training Dice loss: 106.658\n",
            "=> Saving checkpoint\n",
            "Epoch: (26 / 100)\n",
            "Epoch 27 ,training Dice loss: 105.194\n",
            "=> Saving checkpoint\n",
            "Epoch: (27 / 100)\n",
            "Epoch 28 ,training Dice loss: 103.067\n",
            "=> Saving checkpoint\n",
            "Epoch: (28 / 100)\n",
            "Epoch 29 ,training Dice loss: 100.944\n",
            "=> Saving checkpoint\n",
            "Epoch: (29 / 100)\n",
            "Epoch 30 ,training Dice loss: 98.558\n",
            "=> Saving checkpoint\n",
            "Epoch: (30 / 100)\n",
            "Epoch 31 ,training Dice loss: 95.231\n",
            "=> Saving checkpoint\n",
            "Epoch: (31 / 100)\n",
            "Epoch 32 ,training Dice loss: 91.996\n",
            "=> Saving checkpoint\n",
            "Epoch: (32 / 100)\n",
            "Epoch 33 ,training Dice loss: 88.245\n",
            "=> Saving checkpoint\n",
            "Epoch: (33 / 100)\n",
            "Epoch 34 ,training Dice loss: 85.893\n",
            "=> Saving checkpoint\n",
            "Epoch: (34 / 100)\n",
            "Epoch 35 ,training Dice loss: 82.103\n",
            "=> Saving checkpoint\n",
            "Epoch: (35 / 100)\n",
            "Epoch 36 ,training Dice loss: 78.056\n",
            "=> Saving checkpoint\n",
            "Epoch: (36 / 100)\n",
            "Epoch 37 ,training Dice loss: 75.772\n",
            "=> Saving checkpoint\n",
            "Epoch: (37 / 100)\n",
            "Epoch 38 ,training Dice loss: 70.718\n",
            "=> Saving checkpoint\n",
            "Epoch: (38 / 100)\n",
            "Epoch 39 ,training Dice loss: 63.178\n",
            "=> Saving checkpoint\n",
            "Epoch: (39 / 100)\n",
            "Epoch 40 ,training Dice loss: 58.190\n",
            "=> Saving checkpoint\n",
            "Epoch: (40 / 100)\n",
            "Epoch 41 ,training Dice loss: 51.315\n",
            "=> Saving checkpoint\n",
            "Epoch: (41 / 100)\n",
            "Epoch 42 ,training Dice loss: 44.836\n",
            "=> Saving checkpoint\n",
            "Epoch: (42 / 100)\n",
            "Epoch 43 ,training Dice loss: 41.861\n",
            "=> Saving checkpoint\n",
            "Epoch: (43 / 100)\n",
            "Epoch 44 ,training Dice loss: 37.379\n",
            "=> Saving checkpoint\n",
            "Epoch: (44 / 100)\n",
            "Epoch 45 ,training Dice loss: 32.323\n",
            "=> Saving checkpoint\n",
            "Epoch: (45 / 100)\n",
            "Epoch 46 ,training Dice loss: 28.211\n",
            "=> Saving checkpoint\n",
            "Epoch: (46 / 100)\n",
            "Epoch 47 ,training Dice loss: 26.378\n",
            "=> Saving checkpoint\n",
            "Epoch: (47 / 100)\n",
            "Epoch 48 ,training Dice loss: 23.039\n",
            "=> Saving checkpoint\n",
            "Epoch: (48 / 100)\n",
            "Epoch 49 ,training Dice loss: 20.957\n",
            "=> Saving checkpoint\n",
            "Epoch: (49 / 100)\n",
            "Epoch 50 ,training Dice loss: 19.105\n",
            "=> Saving checkpoint\n",
            "Epoch: (50 / 100)\n",
            "Epoch 51 ,training Dice loss: 18.609\n",
            "=> Saving checkpoint\n",
            "Epoch: (51 / 100)\n",
            "Epoch 52 ,training Dice loss: 17.532\n",
            "=> Saving checkpoint\n",
            "Epoch: (52 / 100)\n",
            "Epoch 53 ,training Dice loss: 16.561\n",
            "=> Saving checkpoint\n",
            "Epoch: (53 / 100)\n",
            "Epoch 54 ,training Dice loss: 15.418\n",
            "=> Saving checkpoint\n",
            "Epoch: (54 / 100)\n",
            "Epoch 55 ,training Dice loss: 14.526\n",
            "=> Saving checkpoint\n",
            "Epoch: (55 / 100)\n",
            "Epoch 56 ,training Dice loss: 14.210\n",
            "=> Saving checkpoint\n",
            "Epoch: (56 / 100)\n",
            "Epoch 57 ,training Dice loss: 12.738\n",
            "=> Saving checkpoint\n",
            "Epoch: (57 / 100)\n",
            "Epoch 58 ,training Dice loss: 12.200\n",
            "=> Saving checkpoint\n",
            "Epoch: (58 / 100)\n",
            "Epoch 59 ,training Dice loss: 12.252\n",
            "=> Saving checkpoint\n",
            "Epoch: (59 / 100)\n",
            "Epoch 60 ,training Dice loss: 11.140\n",
            "=> Saving checkpoint\n",
            "Epoch: (60 / 100)\n",
            "Epoch 61 ,training Dice loss: 10.333\n",
            "=> Saving checkpoint\n",
            "Epoch: (61 / 100)\n",
            "Epoch 62 ,training Dice loss: 9.824\n",
            "=> Saving checkpoint\n",
            "Epoch: (62 / 100)\n",
            "Epoch 63 ,training Dice loss: 10.056\n",
            "=> Saving checkpoint\n",
            "Epoch: (63 / 100)\n",
            "Epoch 64 ,training Dice loss: 10.332\n",
            "=> Saving checkpoint\n",
            "Epoch: (64 / 100)\n",
            "Epoch 65 ,training Dice loss: 10.262\n",
            "=> Saving checkpoint\n",
            "Epoch: (65 / 100)\n",
            "Epoch 66 ,training Dice loss: 9.159\n",
            "=> Saving checkpoint\n",
            "Epoch: (66 / 100)\n",
            "Epoch 67 ,training Dice loss: 8.465\n",
            "=> Saving checkpoint\n",
            "Epoch: (67 / 100)\n",
            "Epoch 68 ,training Dice loss: 8.259\n",
            "=> Saving checkpoint\n",
            "Epoch: (68 / 100)\n",
            "Epoch 69 ,training Dice loss: 7.589\n",
            "=> Saving checkpoint\n",
            "Epoch: (69 / 100)\n",
            "Epoch 70 ,training Dice loss: 7.150\n",
            "=> Saving checkpoint\n",
            "Epoch: (70 / 100)\n",
            "Epoch 71 ,training Dice loss: 6.834\n",
            "=> Saving checkpoint\n",
            "Epoch: (71 / 100)\n",
            "Epoch 72 ,training Dice loss: 6.647\n",
            "=> Saving checkpoint\n",
            "Epoch: (72 / 100)\n",
            "Epoch 73 ,training Dice loss: 6.512\n",
            "=> Saving checkpoint\n",
            "Epoch: (73 / 100)\n",
            "Epoch 74 ,training Dice loss: 6.090\n",
            "=> Saving checkpoint\n",
            "Epoch: (74 / 100)\n",
            "Epoch 75 ,training Dice loss: 6.020\n",
            "=> Saving checkpoint\n",
            "Epoch: (75 / 100)\n",
            "Epoch 76 ,training Dice loss: 5.737\n",
            "=> Saving checkpoint\n",
            "Epoch: (76 / 100)\n",
            "Epoch 77 ,training Dice loss: 5.973\n",
            "=> Saving checkpoint\n",
            "Epoch: (77 / 100)\n",
            "Epoch 78 ,training Dice loss: 5.563\n",
            "=> Saving checkpoint\n",
            "Epoch: (78 / 100)\n",
            "Epoch 79 ,training Dice loss: 5.542\n",
            "=> Saving checkpoint\n",
            "Epoch: (79 / 100)\n",
            "Epoch 80 ,training Dice loss: 4.913\n",
            "=> Saving checkpoint\n",
            "Epoch: (80 / 100)\n",
            "Epoch 81 ,training Dice loss: 4.497\n",
            "=> Saving checkpoint\n",
            "Epoch: (81 / 100)\n",
            "Epoch 82 ,training Dice loss: 4.550\n",
            "=> Saving checkpoint\n",
            "Epoch: (82 / 100)\n",
            "Epoch 83 ,training Dice loss: 4.467\n",
            "=> Saving checkpoint\n",
            "Epoch: (83 / 100)\n",
            "Epoch 84 ,training Dice loss: 4.519\n",
            "=> Saving checkpoint\n",
            "Epoch: (84 / 100)\n",
            "Epoch 85 ,training Dice loss: 4.106\n",
            "=> Saving checkpoint\n",
            "Epoch: (85 / 100)\n",
            "Epoch 86 ,training Dice loss: 4.148\n",
            "=> Saving checkpoint\n",
            "Epoch: (86 / 100)\n",
            "Epoch 87 ,training Dice loss: 4.379\n",
            "=> Saving checkpoint\n",
            "Epoch: (87 / 100)\n",
            "Epoch 88 ,training Dice loss: 3.991\n",
            "=> Saving checkpoint\n",
            "Epoch: (88 / 100)\n",
            "Epoch 89 ,training Dice loss: 4.723\n",
            "=> Saving checkpoint\n",
            "Epoch: (89 / 100)\n",
            "Epoch 90 ,training Dice loss: 4.498\n",
            "=> Saving checkpoint\n",
            "Epoch: (90 / 100)\n",
            "Epoch 91 ,training Dice loss: 3.951\n",
            "=> Saving checkpoint\n",
            "Epoch: (91 / 100)\n",
            "Epoch 92 ,training Dice loss: 3.803\n",
            "=> Saving checkpoint\n",
            "Epoch: (92 / 100)\n",
            "Epoch 93 ,training Dice loss: 3.596\n",
            "=> Saving checkpoint\n",
            "Epoch: (93 / 100)\n",
            "Epoch 94 ,training Dice loss: 3.292\n",
            "=> Saving checkpoint\n",
            "Epoch: (94 / 100)\n",
            "Epoch 95 ,training Dice loss: 3.191\n",
            "=> Saving checkpoint\n",
            "Epoch: (95 / 100)\n",
            "Epoch 96 ,training Dice loss: 3.317\n",
            "=> Saving checkpoint\n",
            "Epoch: (96 / 100)\n",
            "Epoch 97 ,training Dice loss: 3.096\n",
            "=> Saving checkpoint\n",
            "Epoch: (97 / 100)\n",
            "Epoch 98 ,training Dice loss: 3.050\n",
            "=> Saving checkpoint\n",
            "Epoch: (98 / 100)\n",
            "Epoch 99 ,training Dice loss: 2.702\n",
            "=> Saving checkpoint\n",
            "Epoch: (99 / 100)\n",
            "Epoch 100 ,training Dice loss: 2.557\n",
            "=> Saving checkpoint\n",
            "Finished Training\n"
          ]
        },
        {
          "output_type": "execute_result",
          "data": {
            "text/plain": [
              "[<matplotlib.lines.Line2D at 0x7f3bcf4c6510>]"
            ]
          },
          "metadata": {},
          "execution_count": 303
        },
        {
          "output_type": "display_data",
          "data": {
            "image/png": "[encoded data removed]",
            "text/plain": [
              "<Figure size 576x216 with 2 Axes>"
            ]
          },
          "metadata": {
            "needs_background": "light"
          }
        }
      ]
    },
    {
      "cell_type": "markdown",
      "source": [
        "- test용 dataset"
      ],
      "metadata": {
        "id": "BfXkJdMotXMO"
      }
    },
    {
      "cell_type": "markdown",
      "metadata": {
        "id": "HjXszjcTjJ9H"
      },
      "source": [
        "# 7. Test"
      ]
    },
    {
      "cell_type": "markdown",
      "source": [
        "- test용 dataset 만들기, Dataset2, (output에서 height, width, name 출력 가능)"
      ],
      "metadata": {
        "id": "9_BgaLM3_NCX"
      }
    },
    {
      "cell_type": "code",
      "source": [
        "#test용 dataset만들기\n",
        "\n",
        "import torch\n",
        "import natsort\n",
        "class Dataset2(torch.utils.data.Dataset):\n",
        "  def __init__(self, data_dir,transform = None):\n",
        "    self.data_dir =data_dir # train, val, test 구분\n",
        "    self.transform =transform\n",
        "\n",
        "    #img 파일 구분\n",
        "    self.data_dir_input = self.data_dir +'img'\n",
        "\n",
        "    #img, label에 있는 파일들 볼 수 있음 +숫자 순서대로 정렬\n",
        "    list=os.listdir(self.data_dir_input)\n",
        "    self.input=natsort.natsorted(list)\n",
        "\n",
        "  def __len__(self):\n",
        "    return len(self.input)\n",
        "\n",
        "  def __getitem__(self,index):\n",
        "    #os.listdir는 모든 파일과 dir 보여줌, np로 가져오기\n",
        "    input_temp = dicom.read_file(os.path.join(self.data_dir_input,self.input[index]))\n",
        "    input = input_temp.pixel_array\n",
        "\n",
        "\n",
        "    #여기에서 input dicom 파일 전처리를 위한 변수\n",
        "    Rescale_slope = input_temp.RescaleSlope\n",
        "    Rescale_intercept = input_temp.RescaleIntercept\n",
        "    Window_center = input_temp.WindowCenter\n",
        "    Window_width = input_temp.WindowWidth\n",
        "    Photometric_interpretation = input_temp.PhotometricInterpretation\n",
        "    Bitstored = input_temp.BitsStored\n",
        "    lwin = (Window_center - Window_width/2)/(2**Bitstored)\n",
        "    rwin = (Window_center + Window_width/2)/(2**Bitstored)\n",
        "\n",
        "    #Bitstored 이용하여 normalize dicom image전처리\n",
        "    input = input.astype(np.float32)\n",
        "    input = input/(2**Bitstored)\n",
        "\n",
        "    #Window로 전처리\n",
        "    input[np.where(input<lwin)] = lwin\n",
        "    input[np.where(input>rwin)] = rwin\n",
        "    input = input - lwin\n",
        "\n",
        "    #Height, width 추출해두기\n",
        "    height = input.shape[0]\n",
        "    width = input.shape[1]\n",
        "    if input.ndim ==2:\n",
        "      input = input[:,:,np.newaxis]\n",
        "\n",
        "    #transform에 의해서 input처리\n",
        "    if self.transform:\n",
        "      data = self.transform(image=input)\n",
        "      data_img = data[\"image\"]\n",
        "      # pixel_array, height, width, 파일명 순으로 추출 가능\n",
        "      return data_img, height, width, self.input[index][:-4]"
      ],
      "metadata": {
        "id": "Ex62v4FzCtSx"
      },
      "execution_count": null,
      "outputs": []
    },
    {
      "cell_type": "markdown",
      "source": [
        "- test전용 trainset 생성\n",
        "\n",
        "#파일 경로 맞는지 확인. 실제 test시 val대신 test쓸 것!!!!!!!!!!!!!!!!!!!"
      ],
      "metadata": {
        "id": "MXvGEGIt_Qhg"
      }
    },
    {
      "cell_type": "code",
      "source": [
        "####################################################\n",
        "#평가 과정에서 필요한 transfomrm\n",
        "transform_vall =A.Compose(\n",
        "        [   A.Resize(height=IMAGE_HEIGHT, width=IMAGE_WIDTH),\n",
        "            A.Normalize(\n",
        "                mean=[0.0],\n",
        "                std=[1.0],\n",
        "                max_pixel_value=1.0,\n",
        "            ),\n",
        "            ToTensorV2(),\n",
        "        ],\n",
        "    )\n",
        "data_dir = '/content/drive/MyDrive/challenge_data_dicom/'\n",
        "##############################실제 test시 val대신 test쓸 것##############################\n",
        "dataset_vall = Dataset2(data_dir=os.path.join(data_dir,'val/'), transform = transform_vall) \n",
        "loader_vall = DataLoader(dataset_vall, batch_size=1, shuffle=False, num_workers=0)"
      ],
      "metadata": {
        "id": "lDd6aI770Qfp"
      },
      "execution_count": null,
      "outputs": []
    },
    {
      "cell_type": "markdown",
      "source": [
        "맞는 파일 가져왔는지 확인\n"
      ],
      "metadata": {
        "id": "hipB0xL7l8u-"
      }
    },
    {
      "cell_type": "code",
      "source": [
        "print(dataset_vall[0][3])\n",
        "print(len(dataset_vall))"
      ],
      "metadata": {
        "colab": {
          "base_uri": "https://localhost:8080/"
        },
        "id": "fpR9_0Nyl8Qq",
        "outputId": "677b252c-59e0-495f-81e9-44129acd7025"
      },
      "execution_count": null,
      "outputs": [
        {
          "output_type": "stream",
          "name": "stdout",
          "text": [
            "151\n",
            "20\n"
          ]
        }
      ]
    },
    {
      "cell_type": "markdown",
      "source": [
        "- test용 이미지 넣어 segmentation 결과 추출하기"
      ],
      "metadata": {
        "id": "1RSRDij16rIQ"
      }
    },
    {
      "cell_type": "code",
      "source": [
        "#꼭, 학습된 모델 가져와서 돌렸는지 확인할 것, ##################\n",
        "import copy\n",
        "import cv2\n",
        "my_model.eval()\n",
        "count = 0\n",
        "for i,(data,height,width,filename) in enumerate(loader_vall):\n",
        "  data = data.to(device=DEVICE)  \n",
        "  predictions = my_model(data) #tensor, BCHW\n",
        "\n",
        "  #numpy 변환\n",
        "  result_array = predictions.cpu().detach().numpy()\n",
        "\n",
        "  #BCHW => HWC\n",
        "  result_array = np.swapaxes(result_array,1,2) # BCHW => BHCW\n",
        "  result_array = np.swapaxes(result_array,2,3) # BHCW => BHWC\n",
        "  result_array = result_array[0,...] #Batch dim 삭제 =>HWC, 150x100x7\n",
        "\n",
        "  #normalize ############ 1~6channel 정규화, 7channel 표준화\n",
        "  ccc = np.zeros((IMAGE_HEIGHT,IMAGE_WIDTH, 7))\n",
        "  for idx in range(7):\n",
        "    if(idx != 6): #7번 채널 제외 하고 threshold = 0.5로 처리,0과 1의 중간값이므로\n",
        "      bbb=copy.copy(result_array[...,idx])\n",
        "      print('channel: ',idx,bbb.max(),bbb.min())\n",
        "      term = bbb.max()-bbb.min()\n",
        "      bbb =bbb/term\n",
        "      min = bbb.min()\n",
        "      bbb -= min\n",
        "      bbb[np.where(bbb <0.5)] =0 \n",
        "      ccc[...,idx]=bbb\n",
        "      print(ccc[...,idx].max(),ccc[...,idx].min())\n",
        "    else: #7채널 표준화 및 반전\n",
        "        bbb=copy.copy(result_array[...,idx])\n",
        "        mean = np.mean(bbb)\n",
        "        std = np.std(bbb)\n",
        "        bbb=(bbb-mean)/std\n",
        "        bbb[np.where(bbb <0)] =0\n",
        "        bbb[np.where(bbb>0)] = 1\n",
        "        bbb=1-bbb\n",
        "        bbb[np.where(bbb == 0)]=1e-2 \n",
        "        ccc[...,idx]=bbb\n",
        "        print(ccc[...,idx].max(),ccc[...,idx].min())\n",
        "\n",
        "\n",
        "  # #분류기 criterion 생성\n",
        "  criterion = np.argmax(ccc,axis=2) # criterion HW짜리\n",
        "  print(np.unique(criterion)) # 상대적 크다고 판단된 값들 출력\n",
        "  real_result = np.zeros((IMAGE_HEIGHT,IMAGE_WIDTH, 7)) # 결과 담을 numpy array\n",
        "\n",
        "  # 1,0 classification\n",
        "  for channel_idx in range(7):\n",
        "    criterion_temp = copy.copy(criterion)   \n",
        "    criterion_temp[np.where(criterion_temp ==channel_idx)] =10   \n",
        "    criterion_temp[np.where(criterion_temp != 10)] = 0\n",
        "    criterion_temp[np.where(criterion_temp == 10)] = 1 \n",
        "    real_result[...,channel_idx] = criterion_temp\n",
        "                                             \n",
        "  # # #np.uint8                                            \n",
        "  result = np.uint8(real_result)     \n",
        "  \n",
        "  # height,width tensor -> numpy ->int\n",
        "  width = int(width.cpu().detach().numpy())\n",
        "  height = int(height.cpu().detach().numpy())\n",
        "\n",
        "  # tuple ->str\n",
        "  filename = ''.join(filename) \n",
        "\n",
        "  try:\n",
        "    #segmentation\n",
        "    result = cv2.resize(real_result,(width,height),interpolation=cv2.INTER_LINEAR) \n",
        "    ##실수형태만 확인할 때 사용\n",
        "    #result = cv2.resize(result_array,(width,height),interpolation=cv2.INTER_LINEAR) \n",
        "\n",
        "    #np.uint8위한 과정 , interpolation에 의해 변형되기 때문에\n",
        "    result[np.where(result>=0.5)]=1\n",
        "    result[np.where(result<0.5)]=0 \n",
        "    result=np.uint8(result)\n",
        "    print(result.dtype)\n",
        "    count+=1\n",
        "  except Exception as e:\n",
        "    print(str(e))\n",
        "\n",
        "  #npy파일 저장\n",
        "  save_path = '/content/drive/MyDrive/challenge_data_dicom/Store/result/'+filename+'.npy'\n",
        "  np.save(save_path,result)\n",
        "  print('file name: %s, count: %d' %(filename,count))\n",
        "  print(result.shape)\n",
        "          \n"
      ],
      "metadata": {
        "colab": {
          "base_uri": "https://localhost:8080/"
        },
        "id": "0r55jjRb4DPh",
        "outputId": "d3ae2485-b783-4936-b54d-19235e35bc1c"
      },
      "execution_count": null,
      "outputs": [
        {
          "output_type": "stream",
          "name": "stdout",
          "text": [
            "float32\n",
            "file name: 151, count: 1\n",
            "(3052, 2140, 7)\n",
            "float32\n",
            "file name: 152, count: 2\n",
            "(3264, 1852, 7)\n",
            "float32\n",
            "file name: 153, count: 3\n",
            "(3228, 1616, 7)\n",
            "float32\n",
            "file name: 154, count: 4\n",
            "(3228, 1816, 7)\n",
            "float32\n",
            "file name: 155, count: 5\n",
            "(3228, 1800, 7)\n",
            "float32\n",
            "file name: 156, count: 6\n",
            "(3264, 1672, 7)\n",
            "float32\n",
            "file name: 157, count: 7\n",
            "(3264, 1964, 7)\n",
            "float32\n",
            "file name: 158, count: 8\n",
            "(3036, 3076, 7)\n",
            "float32\n",
            "file name: 159, count: 9\n",
            "(3112, 2108, 7)\n",
            "float32\n",
            "file name: 160, count: 10\n",
            "(3264, 2140, 7)\n",
            "float32\n",
            "file name: 181, count: 11\n",
            "(2680, 1460, 7)\n",
            "float32\n",
            "file name: 182, count: 12\n",
            "(2716, 1628, 7)\n",
            "float32\n",
            "file name: 183, count: 13\n",
            "(2712, 1992, 7)\n",
            "float32\n",
            "file name: 184, count: 14\n",
            "(2736, 1324, 7)\n",
            "float32\n",
            "file name: 185, count: 15\n",
            "(2832, 2520, 7)\n",
            "float32\n",
            "file name: 186, count: 16\n",
            "(2852, 1800, 7)\n",
            "float32\n",
            "file name: 187, count: 17\n",
            "(2496, 1172, 7)\n",
            "float32\n",
            "file name: 188, count: 18\n",
            "(2748, 1340, 7)\n",
            "float32\n",
            "file name: 189, count: 19\n",
            "(2560, 1280, 7)\n",
            "float32\n",
            "file name: 190, count: 20\n",
            "(2760, 1972, 7)\n"
          ]
        }
      ]
    },
    {
      "cell_type": "markdown",
      "source": [
        "확인용"
      ],
      "metadata": {
        "id": "XV9__tSfCa0m"
      }
    },
    {
      "cell_type": "markdown",
      "source": [
        "- 저장한 npy파일 확인 및 분석"
      ],
      "metadata": {
        "id": "ZlBZ-tkg8Cv_"
      }
    },
    {
      "cell_type": "markdown",
      "metadata": {
        "id": "9T_D-nguazpe"
      },
      "source": [
        "# 위에까지가 Challenge에 필요한 코드이고, 아래는 다른 과정에서 필요했던 코드들인데 혹시나 하여 같이 저장했습니다."
      ]
    },
    {
      "cell_type": "code",
      "source": [
        "#채널 하나에 대해 분석\n",
        "fig = plt.figure()\n",
        "rows = 1\n",
        "cols = 7\n",
        "name = '189'\n",
        "k1 = np.load('/content/drive/MyDrive/challenge_data_dicom/Store/result/'+name+'.npy')\n",
        "\n",
        "k2 = np.load('/content/drive/MyDrive/challenge_data_dicom/Store/result/'+name+'.npy')\n",
        "\n",
        "k3 = np.load('/content/drive/MyDrive/challenge_data_dicom/Store/result/'+name+'.npy')\n",
        "\n",
        "k4 = np.load('/content/drive/MyDrive/challenge_data_dicom/Store/result/'+name+'.npy')\n",
        "\n",
        "k5 = np.load('/content/drive/MyDrive/challenge_data_dicom/Store/result/'+name+'.npy')\n",
        "\n",
        "k6 = np.load('/content/drive/MyDrive/challenge_data_dicom/Store/result/'+name+'.npy')\n",
        "\n",
        "k7 = np.load('/content/drive/MyDrive/challenge_data_dicom/Store/result/'+name+'.npy')\n",
        "\n",
        "\n",
        "#########channel 실수 값으로 표현 하기\n",
        "channel =0\n",
        "channel1 = 1\n",
        "channel2 =2\n",
        "channel3 =3\n",
        "channel4=4\n",
        "channel5 =5\n",
        "channel6=6\n",
        "\n",
        "# ax1 = fig.add_subplot(rows,cols,1)\n",
        "# ax1.imshow(k1[...,channel], cmap='gray')\n",
        "\n",
        "# ax2 = fig.add_subplot(rows,cols,2)\n",
        "# ax2.imshow(k2[...,channel1], cmap='gray')\n",
        "\n",
        "# ax3 = fig.add_subplot(rows,cols,3)\n",
        "# ax3.imshow(k3[...,channel2], cmap='gray')\n",
        "\n",
        "# ax4 = fig.add_subplot(rows,cols,4)\n",
        "# ax4.imshow(k4[...,channel3], cmap='gray')\n",
        "\n",
        "# ax5 = fig.add_subplot(rows,cols,5)\n",
        "# ax5.imshow(k5[...,channel4], cmap='gray')\n",
        "\n",
        "# ax6 = fig.add_subplot(rows,cols,6)\n",
        "# ax6.imshow(k6[...,channel5], cmap='gray')\n",
        "\n",
        "# ax7 = fig.add_subplot(rows,cols,7)\n",
        "# ax7.imshow(k7[...,channel6], cmap='gray')\n",
        "\n",
        "# z-normalization\n",
        "# for iddx in range(6):\n",
        "#   bbb=copy.copy(k1[...,iddx])\n",
        "#   mean = np.mean(bbb)\n",
        "#   std = np.std(bbb)\n",
        "#   bbb=(bbb-mean)/std\n",
        "#   bbb[np.where(bbb <0)] =0\n",
        "#   bbb[np.where(bbb>0)] = 1\n",
        "#   k1[...,iddx] = bbb\n",
        "#   print(bbb.max(),bbb.min())\n",
        "\n",
        "# bbb=copy.copy(k1[...,6])\n",
        "# mean = np.mean(bbb)\n",
        "# std = np.std(bbb)\n",
        "# bbb=(bbb-mean)/std\n",
        "# bbb[np.where(bbb <0)] =0\n",
        "# bbb[np.where(bbb>0)] = 1\n",
        "# k1[...,6] = 1-bbb\n",
        "\n",
        "#double z- normalization\n",
        "# for iddx in range(7):\n",
        "#   bbb=copy.copy(k1[...,iddx])\n",
        "#   mean = np.mean(bbb)\n",
        "#   std = np.std(bbb)\n",
        "#   bbb=(bbb-mean)/std\n",
        "#   bbb[np.where(bbb <0)] =0\n",
        "#   print(bbb.max(),bbb.min())\n",
        "#   mean = np.mean(bbb)\n",
        "#   std = np.std(bbb)\n",
        "#   bbb=(bbb-mean)/std\n",
        "#   print(bbb.max(),bbb.min())\n",
        "#   bbb[np.where(bbb <0)] =0\n",
        "#   bbb[np.where(bbb >0)] = 1\n",
        "#   k1[...,iddx] = bbb\n",
        "#   print(bbb.max(),bbb.min())\n",
        "#   print('\\n')\n",
        "\n",
        "\n",
        "# min-max normalization\n",
        "# for iddx in range(6):\n",
        "#   bbb=copy.copy(k1[...,iddx])\n",
        "#   max = bbb.max()\n",
        "#   min = bbb.min()\n",
        "#   term = max - min\n",
        "#   bbb=(bbb-min)/term\n",
        "#   mid = 0.5\n",
        "#   bbb[np.where(bbb <mid)] =0\n",
        "#   # bbb[np.where(bbb>mid)] = 1\n",
        "#   k1[...,iddx] = bbb\n",
        "#   print(bbb.max(),bbb.min())\n",
        "\n",
        "ax1 = fig.add_subplot(rows,cols,1)\n",
        "ax1.imshow(k1[...,channel], cmap='gray')\n",
        "\n",
        "ax2 = fig.add_subplot(rows,cols,2)\n",
        "ax2.imshow(k1[...,channel1], cmap='gray')\n",
        "\n",
        "ax3 = fig.add_subplot(rows,cols,3)\n",
        "ax3.imshow(k1[...,channel2], cmap='gray')\n",
        "\n",
        "ax4 = fig.add_subplot(rows,cols,4)\n",
        "ax4.imshow(k1[...,channel3], cmap='gray')\n",
        "\n",
        "ax5 = fig.add_subplot(rows,cols,5)\n",
        "ax5.imshow(k1[...,channel4], cmap='gray')\n",
        "\n",
        "ax6 = fig.add_subplot(rows,cols,6)\n",
        "ax6.imshow(k1[...,channel5], cmap='gray')\n",
        "\n",
        "ax7 = fig.add_subplot(rows,cols,7)\n",
        "ax7.imshow(k1[...,channel6], cmap='gray')"
      ],
      "metadata": {
        "colab": {
          "base_uri": "https://localhost:8080/",
          "height": 152
        },
        "id": "ZSEInfBSmNIv",
        "outputId": "26a5fa8d-5bf4-4b13-81fd-1f36d0a2b04b"
      },
      "execution_count": null,
      "outputs": [
        {
          "output_type": "execute_result",
          "data": {
            "text/plain": [
              "<matplotlib.image.AxesImage at 0x7fd7d2719a10>"
            ]
          },
          "metadata": {},
          "execution_count": 106
        },
        {
          "output_type": "display_data",
          "data": {
            "image/png": "[encoded data removed]",
            "text/plain": [
              "<Figure size 432x288 with 7 Axes>"
            ]
          },
          "metadata": {
            "needs_background": "light"
          }
        }
      ]
    },
    {
      "cell_type": "markdown",
      "source": [
        "- ZIP 파일 풀기"
      ],
      "metadata": {
        "id": "zvo8cLR0lfq1"
      }
    },
    {
      "cell_type": "markdown",
      "source": [
        "1. zip파일을 먼저 바탕화면에서 내가 원하는 이름으로 압축 풀고\n",
        "내부에 img 폴더를 만들어서 넣고 재압축 할것\n",
        "2. zip파일을 test 파일에 넣기\n",
        "3. zip파일 이름은 test2로 할 것.\n",
        "4. 위에 Dataset2로 데이터 셋 만들 때 val이 아닌 test로 경로 바꿔줄 것."
      ],
      "metadata": {
        "id": "-kzsqbVIEGLb"
      }
    },
    {
      "cell_type": "code",
      "metadata": {
        "id": "M5bKUXCqY-L9",
        "colab": {
          "base_uri": "https://localhost:8080/",
          "height": 36
        },
        "outputId": "084649ad-93d3-4013-9a44-d2f4d3a6a711"
      },
      "source": [
        "# os.chdir 이용방법\n",
        "#1. os.chdir로 현재 cwd 바꿔준다.\n",
        "os.chdir('/content/drive/MyDrive/challenge_data_dicom/test/img')\n",
        "\n",
        "#2. 현재 cwd 확인해보기\n",
        "os.getcwd()\n"
      ],
      "execution_count": null,
      "outputs": [
        {
          "output_type": "execute_result",
          "data": {
            "application/vnd.google.colaboratory.intrinsic+json": {
              "type": "string"
            },
            "text/plain": [
              "'/content/drive/MyDrive/challenge_data_dicom/test/img'"
            ]
          },
          "metadata": {},
          "execution_count": 39
        }
      ]
    },
    {
      "cell_type": "code",
      "source": [
        "#3. 원하는 zip파일 풀면 cwd에 풀림\n",
        "!unzip -qq \"/content/drive/MyDrive/challenge_data_dicom/test/test2.zip\"\n"
      ],
      "metadata": {
        "id": "c86ySD60lpbC"
      },
      "execution_count": null,
      "outputs": []
    },
    {
      "cell_type": "markdown",
      "source": [
        "- 알고리즘으로 시도\n"
      ],
      "metadata": {
        "id": "voOhqw5YlqMp"
      }
    },
    {
      "cell_type": "markdown",
      "source": [
        "- correlation 연산을 위한 코드"
      ],
      "metadata": {
        "id": "9eBHoVbxD9Ge"
      }
    },
    {
      "cell_type": "code",
      "source": [
        "def corr2d(X, K):\n",
        "  # Y shape 구하기\n",
        "  X_height,X_width=X.shape #3,3\n",
        "  K_height,K_width=K.shape #2,2\n",
        "\n",
        "  Y_width=X_width - K_width + 1 #2\n",
        "  Y_height=X_height - K_height + 1 #2\n",
        "  Y=np.zeros((Y_height,Y_width)) #convolution연산으로 생성될 Y shape에 맞추어 Y 생성\n",
        "  sum=0\n",
        "\n",
        "  for width in range(0,Y_width): #0~1\n",
        "    for height in range(0,Y_height): #0~1\n",
        "      #height,width는 convolution연산이 시작되는 X의 좌측 상단 좌표\n",
        "      #kernel 요소 수만큼 연산 진행\n",
        "      sum=0\n",
        "      for i in range(width,width+K_width):\n",
        "        for j in range(height, height+K_height):\n",
        "          sum+=X[j][i]*K[j-height][i-width] #convolution 연산에 이용되는 kernel의 좌표는 항상 고정되게 설정해줘야 함. => 연산을 진행하는 X의 좌측 상단 좌표를 뺀다.\n",
        "      Y[height][width]=sum \n",
        "   \n",
        "  return Y"
      ],
      "metadata": {
        "id": "Lzg_wYw4up0F"
      },
      "execution_count": null,
      "outputs": []
    },
    {
      "cell_type": "code",
      "source": [
        "import PIL.Image as pilimg\n",
        "import numpy as np\n",
        "import cv2\n",
        "import copy\n",
        "# Read image\n",
        "im = pilimg.open('/content/drive/MyDrive/challenge_data_dicom/3000.bmp')\n",
        " \n",
        "# Fetch image pixel data to numpy array\n",
        "pix = np.array(im)\n",
        "width =200\n",
        "height = 200\n",
        "pix = cv2.resize(pix,(width,height),interpolation=cv2.INTER_LINEAR)"
      ],
      "metadata": {
        "id": "6aDXUUwHvgFr"
      },
      "execution_count": null,
      "outputs": []
    },
    {
      "cell_type": "code",
      "source": [
        "kernel = np.ones((5,5))\n",
        "print(kernel)"
      ],
      "metadata": {
        "colab": {
          "base_uri": "https://localhost:8080/"
        },
        "id": "Mj3g6dfGkHNl",
        "outputId": "6e175dec-758c-40a4-b2cd-4d7c00278478"
      },
      "execution_count": null,
      "outputs": [
        {
          "output_type": "stream",
          "name": "stdout",
          "text": [
            "[[1. 1. 1. 1. 1.]\n",
            " [1. 1. 1. 1. 1.]\n",
            " [1. 1. 1. 1. 1.]\n",
            " [1. 1. 1. 1. 1.]\n",
            " [1. 1. 1. 1. 1.]]\n"
          ]
        }
      ]
    },
    {
      "cell_type": "code",
      "source": [
        "result_temp = corr2d(pix,kernel)\n",
        "thd = 255*25*0.21\n",
        "thd1 = 255*25*0.24\n",
        "result_real = np.zeros((200,200))\n",
        "for i in range(196):\n",
        "  for j in range(196):\n",
        "    if thd<result_temp[i][j] and result_temp[i][j]<thd1:\n",
        "      result_real[i:i+25][j:j+25] = 1\n",
        "# result_temp[np.where((thd<result_temp) & (result_temp<thd1))] = 10\n",
        "# result_temp[np.where(result_temp != 10)] = 0\n",
        "# result_temp[np.where(result_temp == 10)] = 1\n",
        "plt.imshow(result_real,cmap='gray')"
      ],
      "metadata": {
        "colab": {
          "base_uri": "https://localhost:8080/",
          "height": 287
        },
        "id": "jC17z2X1kTEd",
        "outputId": "62b6eecd-b69e-4d9a-85a2-5d6d337d29c1"
      },
      "execution_count": null,
      "outputs": [
        {
          "output_type": "execute_result",
          "data": {
            "text/plain": [
              "<matplotlib.image.AxesImage at 0x7eff11559610>"
            ]
          },
          "metadata": {},
          "execution_count": 78
        },
        {
          "output_type": "display_data",
          "data": {
            "image/png": "[encoded data removed]",
            "text/plain": [
              "<Figure size 432x288 with 1 Axes>"
            ]
          },
          "metadata": {
            "needs_background": "light"
          }
        }
      ]
    },
    {
      "cell_type": "code",
      "source": [
        "aaa=copy.copy(pix)\n",
        "mean = np.mean(aaa)\n",
        "std = np.std(aaa)\n",
        "aaa=(aaa-mean)/std\n",
        "# aaa[np.where(aaa <0)] =0\n",
        "# aaa[np.where(aaa>0)] = 1\n",
        "plt.imshow(aaa,cmap='gray')\n"
      ],
      "metadata": {
        "colab": {
          "base_uri": "https://localhost:8080/",
          "height": 287
        },
        "id": "VzEKmJZMeTOK",
        "outputId": "90155aba-2864-48e7-80a2-90162a831f2e"
      },
      "execution_count": null,
      "outputs": [
        {
          "output_type": "execute_result",
          "data": {
            "text/plain": [
              "<matplotlib.image.AxesImage at 0x7f5988fb7a50>"
            ]
          },
          "metadata": {},
          "execution_count": 60
        },
        {
          "output_type": "display_data",
          "data": {
            "image/png": "[encoded data removed]",
            "text/plain": [
              "<Figure size 432x288 with 1 Axes>"
            ]
          },
          "metadata": {
            "needs_background": "light"
          }
        }
      ]
    },
    {
      "cell_type": "code",
      "source": [
        "# mean-std 정규화\n",
        "bbb=copy.copy(pix)\n",
        "mean = np.mean(bbb)\n",
        "std = np.std(bbb)\n",
        "bbb=(bbb-mean)/std\n",
        "threshold = -1\n",
        "bbb[np.where(bbb <threshold)] =threshold\n",
        "# bbb[np.where(bbb>threshold)] = 1\n",
        "plt.imshow(bbb,cmap='gray')"
      ],
      "metadata": {
        "colab": {
          "base_uri": "https://localhost:8080/",
          "height": 287
        },
        "id": "Eig3orT1eIoh",
        "outputId": "8810c917-aa67-4b01-ebe5-e743354cb198"
      },
      "execution_count": null,
      "outputs": [
        {
          "output_type": "execute_result",
          "data": {
            "text/plain": [
              "<matplotlib.image.AxesImage at 0x7fd79fa73190>"
            ]
          },
          "metadata": {},
          "execution_count": 60
        },
        {
          "output_type": "display_data",
          "data": {
            "image/png": "[encoded data removed]",
            "text/plain": [
              "<Figure size 432x288 with 1 Axes>"
            ]
          },
          "metadata": {
            "needs_background": "light"
          }
        }
      ]
    },
    {
      "cell_type": "code",
      "source": [
        "K = np.array([[1.0, -1.0]]) # K: 1 X 2 kernel tensor\n",
        "K2 = np.array([[1.0],[-1.0]])\n",
        "\n",
        "print(K.shape)\n",
        "print(K2.shape)"
      ],
      "metadata": {
        "colab": {
          "base_uri": "https://localhost:8080/"
        },
        "id": "xWApppQJurJL",
        "outputId": "fee63fe6-b405-421b-f291-34e8d73ece6a"
      },
      "execution_count": null,
      "outputs": [
        {
          "output_type": "stream",
          "name": "stdout",
          "text": [
            "(1, 2)\n",
            "(2, 1)\n"
          ]
        }
      ]
    },
    {
      "cell_type": "code",
      "source": [
        "A = corr2d(pix,K)\n",
        "\n",
        "for kk in range(199):\n",
        "  print(A[80][kk])"
      ],
      "metadata": {
        "colab": {
          "base_uri": "https://localhost:8080/"
        },
        "id": "yU0XexgM6T_J",
        "outputId": "9db9e822-3a5c-44b4-db4b-05a43a143b45"
      },
      "execution_count": null,
      "outputs": [
        {
          "output_type": "stream",
          "name": "stdout",
          "text": [
            "6.0\n",
            "0.0\n",
            "-1.0\n",
            "1.0\n",
            "1.0\n",
            "-3.0\n",
            "-2.0\n",
            "-7.0\n",
            "2.0\n",
            "-1.0\n",
            "-8.0\n",
            "3.0\n",
            "-6.0\n",
            "4.0\n",
            "-2.0\n",
            "-5.0\n",
            "10.0\n",
            "-9.0\n",
            "-1.0\n",
            "0.0\n",
            "-1.0\n",
            "2.0\n",
            "0.0\n",
            "-5.0\n",
            "2.0\n",
            "-2.0\n",
            "4.0\n",
            "2.0\n",
            "-1.0\n",
            "-5.0\n",
            "7.0\n",
            "-3.0\n",
            "1.0\n",
            "-5.0\n",
            "4.0\n",
            "-4.0\n",
            "-3.0\n",
            "-11.0\n",
            "1.0\n",
            "2.0\n",
            "9.0\n",
            "-5.0\n",
            "2.0\n",
            "-2.0\n",
            "-1.0\n",
            "6.0\n",
            "-1.0\n",
            "-3.0\n",
            "-3.0\n",
            "2.0\n",
            "3.0\n",
            "4.0\n",
            "-3.0\n",
            "-8.0\n",
            "6.0\n",
            "-2.0\n",
            "2.0\n",
            "1.0\n",
            "-2.0\n",
            "6.0\n",
            "-4.0\n",
            "0.0\n",
            "6.0\n",
            "-10.0\n",
            "-2.0\n",
            "4.0\n",
            "-8.0\n",
            "3.0\n",
            "4.0\n",
            "-5.0\n",
            "1.0\n",
            "7.0\n",
            "-9.0\n",
            "7.0\n",
            "-2.0\n",
            "-5.0\n",
            "1.0\n",
            "3.0\n",
            "-6.0\n",
            "10.0\n",
            "-1.0\n",
            "2.0\n",
            "5.0\n",
            "-4.0\n",
            "-1.0\n",
            "-5.0\n",
            "-1.0\n",
            "8.0\n",
            "0.0\n",
            "-5.0\n",
            "-9.0\n",
            "6.0\n",
            "7.0\n",
            "2.0\n",
            "11.0\n",
            "-9.0\n",
            "-2.0\n",
            "2.0\n",
            "2.0\n",
            "4.0\n",
            "-9.0\n",
            "2.0\n",
            "1.0\n",
            "-8.0\n",
            "15.0\n",
            "-3.0\n",
            "14.0\n",
            "2.0\n",
            "-5.0\n",
            "5.0\n",
            "0.0\n",
            "-4.0\n",
            "0.0\n",
            "-1.0\n",
            "1.0\n",
            "2.0\n",
            "5.0\n",
            "0.0\n",
            "4.0\n",
            "1.0\n",
            "1.0\n",
            "-2.0\n",
            "-1.0\n",
            "0.0\n",
            "-1.0\n",
            "0.0\n",
            "-1.0\n",
            "0.0\n",
            "0.0\n",
            "0.0\n",
            "0.0\n",
            "0.0\n",
            "-1.0\n",
            "0.0\n",
            "0.0\n",
            "0.0\n",
            "0.0\n",
            "0.0\n",
            "0.0\n",
            "0.0\n",
            "0.0\n",
            "-1.0\n",
            "0.0\n",
            "0.0\n",
            "0.0\n",
            "0.0\n",
            "0.0\n",
            "0.0\n",
            "0.0\n",
            "0.0\n",
            "0.0\n",
            "0.0\n",
            "0.0\n",
            "0.0\n",
            "0.0\n",
            "0.0\n",
            "-1.0\n",
            "0.0\n",
            "0.0\n",
            "0.0\n",
            "0.0\n",
            "0.0\n",
            "0.0\n",
            "0.0\n",
            "0.0\n",
            "0.0\n",
            "0.0\n",
            "0.0\n",
            "0.0\n",
            "0.0\n",
            "0.0\n",
            "0.0\n",
            "0.0\n",
            "0.0\n",
            "0.0\n",
            "0.0\n",
            "0.0\n",
            "0.0\n",
            "0.0\n",
            "0.0\n",
            "0.0\n",
            "0.0\n",
            "0.0\n",
            "0.0\n",
            "0.0\n",
            "0.0\n",
            "0.0\n",
            "0.0\n",
            "0.0\n",
            "0.0\n",
            "0.0\n",
            "0.0\n",
            "0.0\n",
            "0.0\n",
            "0.0\n",
            "0.0\n",
            "0.0\n",
            "0.0\n",
            "0.0\n"
          ]
        }
      ]
    },
    {
      "cell_type": "code",
      "source": [
        "A = corr2d(pix,K)\n",
        "B = corr2d(pix,K2)\n",
        "\n",
        "height =A.shape[0]\n",
        "width = A.shape[1]\n",
        "\n",
        "fig = plt.figure()\n",
        "rows = 1\n",
        "cols = 3\n",
        "\n",
        "#가로로\n",
        "for i in range(height):\n",
        "  mean = np.mean(A[i])\n",
        "  std = np.std(A[i])\n",
        "  A[i] = (A[i]-mean)/std\n",
        "  threshold = 0.5*std\n",
        "  A[i][np.where((A[i]>threshold) |(A[i]<-1*threshold))] =2000\n",
        "  A[i][np.where((A[i]<threshold) &(A[i]>-1*threshold))] =0\n",
        "  A[i][np.where(A[i]==2000)] =1\n",
        "\n",
        "#세로로\n",
        "for j in range(width):\n",
        "  mean1 = np.mean(B[:,j])\n",
        "  std1 = np.std(B[:,j])\n",
        "  B[:,j] = (B[:,j]-mean1)/std1\n",
        "  threshold1 = std1*0.08\n",
        "  B[:,j][np.where((B[:,j]>threshold1) |(B[:,j]<-1*threshold1))] =2000\n",
        "  B[:,j][np.where((B[:,j]<threshold1) &(B[:,j]>-1*threshold1))] =0\n",
        "  B[:,j][np.where(B[:,j]==2000)] =1\n",
        "\n",
        "\n",
        "A= A[:199]\n",
        "B= B[:,:199]\n",
        "print(B.shape)\n",
        "\n",
        "# a1 = fig.add_subplot(rows,cols,1)\n",
        "# a1.imshow(A, cmap='gray')\n",
        "\n",
        "# a2 = fig.add_subplot(rows,cols,2)\n",
        "# a2.imshow(B, cmap='gray')\n",
        "\n",
        "# a3 = fig.add_subplot(rows,cols,3)\n",
        "# a3.imshow(A+B, cmap='gray')\n",
        "plt.imshow(B,cmap='gray')\n",
        "print(B)"
      ],
      "metadata": {
        "colab": {
          "base_uri": "https://localhost:8080/",
          "height": 414
        },
        "id": "3fghpCa7uxew",
        "outputId": "7bb77302-dadf-4293-d9bd-54c4e200a60c"
      },
      "execution_count": null,
      "outputs": [
        {
          "output_type": "stream",
          "name": "stdout",
          "text": [
            "(199, 199)\n",
            "[[0. 0. 0. ... 1. 1. 0.]\n",
            " [0. 1. 1. ... 1. 1. 0.]\n",
            " [0. 0. 0. ... 1. 1. 1.]\n",
            " ...\n",
            " [0. 0. 0. ... 0. 0. 0.]\n",
            " [0. 0. 0. ... 0. 0. 0.]\n",
            " [0. 0. 0. ... 0. 0. 0.]]\n"
          ]
        },
        {
          "output_type": "display_data",
          "data": {
            "image/png": "[encoded data removed]",
            "text/plain": [
              "<Figure size 432x288 with 1 Axes>"
            ]
          },
          "metadata": {
            "needs_background": "light"
          }
        }
      ]
    },
    {
      "cell_type": "code",
      "source": [
        "result_temp = corr2d(B,kernel)\n",
        "thd = 25*0.17\n",
        "thd1 = 25*0.24\n",
        "result_real = np.zeros((200,200))\n",
        "# for i in range(196):\n",
        "#   for j in range(196):\n",
        "#     if thd<result_temp[i][j] and result_temp[i][j]<thd1:\n",
        "#       result_real[i:i+25][j:j+25] = 1\n",
        "result_temp[np.where((thd<result_temp) & (result_temp<thd1))] = 10\n",
        "result_temp[np.where(result_temp != 10)] = 0\n",
        "result_temp[np.where(result_temp == 10)] = 1\n",
        "plt.imshow(result_temp,cmap='gray')\n"
      ],
      "metadata": {
        "colab": {
          "base_uri": "https://localhost:8080/",
          "height": 287
        },
        "id": "he_SLhM394WN",
        "outputId": "3dbc01d4-4072-4821-fc8c-3641690762a6"
      },
      "execution_count": null,
      "outputs": [
        {
          "output_type": "execute_result",
          "data": {
            "text/plain": [
              "<matplotlib.image.AxesImage at 0x7eff1099a990>"
            ]
          },
          "metadata": {},
          "execution_count": 108
        },
        {
          "output_type": "display_data",
          "data": {
            "image/png": "[encoded data removed]",
            "text/plain": [
              "<Figure size 432x288 with 1 Axes>"
            ]
          },
          "metadata": {
            "needs_background": "light"
          }
        }
      ]
    }
  ]
}